{
 "cells": [
  {
   "cell_type": "markdown",
   "metadata": {},
   "source": [
    "* * * *\n",
    "* * *\n",
    "* * \n",
    "*"
   ]
  },
  {
   "cell_type": "code",
   "execution_count": 4,
   "metadata": {},
   "outputs": [
    {
     "name": "stdout",
     "output_type": "stream",
     "text": [
      "* * * * \n",
      "* * * \n",
      "* * \n",
      "* \n"
     ]
    }
   ],
   "source": [
    "n = int(input())\n",
    "i = 1\n",
    "while i <= n:\n",
    "  j = 1\n",
    "  while j <= n - i + 1:\n",
    "    print(\"*\", end = \" \")\n",
    "    j += 1\n",
    "  print()\n",
    "  i += 1"
   ]
  },
  {
   "cell_type": "markdown",
   "metadata": {},
   "source": [
    "      *\n",
    "    * *\n",
    "  * * *\n",
    "* * * *"
   ]
  },
  {
   "cell_type": "code",
   "execution_count": 9,
   "metadata": {},
   "outputs": [
    {
     "name": "stdout",
     "output_type": "stream",
     "text": [
      "      * \n",
      "    * * \n",
      "  * * * \n",
      "* * * * \n"
     ]
    }
   ],
   "source": [
    "n = int(input())\n",
    "i = 1\n",
    "while i <= n:\n",
    "  k = n - i\n",
    "  while k >= 1:\n",
    "    print(\" \", end = \" \")\n",
    "    k -= 1\n",
    "  j = 1\n",
    "  while j <= i:\n",
    "    print(\"*\", end = \" \")\n",
    "    j += 1\n",
    "  print()\n",
    "  i += 1"
   ]
  },
  {
   "cell_type": "markdown",
   "metadata": {},
   "source": [
    "      1\n",
    "    1 2 1\n",
    "  1 2 3 2 1\n",
    "1 2 3 4 3 2 1 "
   ]
  },
  {
   "cell_type": "code",
   "execution_count": 12,
   "metadata": {},
   "outputs": [
    {
     "name": "stdout",
     "output_type": "stream",
     "text": [
      "      1 \n",
      "    1 2 1 \n",
      "  1 2 3 2 1 \n",
      "1 2 3 4 3 2 1 \n"
     ]
    }
   ],
   "source": [
    "n = int(input())\n",
    "i = 1\n",
    "while i <= n:\n",
    "  k = n - i\n",
    "  while k >= 1:\n",
    "    print(\" \", end = \" \")\n",
    "    k -= 1\n",
    "  j = 1\n",
    "  while j <= i:\n",
    "    print(j, end = \" \")\n",
    "    j += 1\n",
    "  l = j - 2\n",
    "  while l >= 1:\n",
    "    print(l, end = \" \")\n",
    "    l -= 1\n",
    "  print()\n",
    "  i += 1"
   ]
  }
 ],
 "metadata": {
  "interpreter": {
   "hash": "b0fa6594d8f4cbf19f97940f81e996739fb7646882a419484c72d19e05852a7e"
  },
  "kernelspec": {
   "display_name": "Python 3.9.13 64-bit",
   "language": "python",
   "name": "python3"
  },
  "language_info": {
   "codemirror_mode": {
    "name": "ipython",
    "version": 3
   },
   "file_extension": ".py",
   "mimetype": "text/x-python",
   "name": "python",
   "nbconvert_exporter": "python",
   "pygments_lexer": "ipython3",
   "version": "3.9.13"
  },
  "orig_nbformat": 4
 },
 "nbformat": 4,
 "nbformat_minor": 2
}
