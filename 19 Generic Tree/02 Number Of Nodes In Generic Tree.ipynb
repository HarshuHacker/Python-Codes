{
 "cells": [
  {
   "cell_type": "code",
   "execution_count": 12,
   "metadata": {},
   "outputs": [],
   "source": [
    "class GenericTreeNode:\n",
    "  def __init__(self,data):\n",
    "    self.data = data\n",
    "    self.children = []"
   ]
  },
  {
   "cell_type": "code",
   "execution_count": 13,
   "metadata": {},
   "outputs": [],
   "source": [
    "def takeInput():\n",
    "  rootData = int(input(\"Enter Root Data\"))\n",
    "  if(rootData == -1):\n",
    "    return None\n",
    "  root = GenericTreeNode(rootData)\n",
    "  numOfChildren = int(input(\"Enter The Number Of Children Of \" + str(root.data)))\n",
    "  for i in range(numOfChildren):\n",
    "    child = takeInput()\n",
    "    root.children.append(child)\n",
    "  return root"
   ]
  },
  {
   "cell_type": "code",
   "execution_count": 14,
   "metadata": {},
   "outputs": [],
   "source": [
    "def numberOfNodesInGenericTree(root):\n",
    "  if(root == None): #This Is Not A Base Case But An Edge Case\n",
    "    return 0\n",
    "\n",
    "  count = 1\n",
    "  for child in root.children:\n",
    "    count += numberOfNodesInGenericTree(child)\n",
    "  return count"
   ]
  },
  {
   "cell_type": "code",
   "execution_count": 15,
   "metadata": {},
   "outputs": [],
   "source": [
    "def printTree(root):\n",
    "  if(root == None): #This Is Not A Base Case But An Edge Case\n",
    "    return\n",
    "  print(root.data, end = \":\")\n",
    "  for child in root.children:\n",
    "    print(child.data, end = \",\")\n",
    "  print()\n",
    "  for child in root.children:\n",
    "    printTree(child)\n"
   ]
  },
  {
   "cell_type": "code",
   "execution_count": 16,
   "metadata": {},
   "outputs": [
    {
     "name": "stdout",
     "output_type": "stream",
     "text": [
      "1:2,3,4,\n",
      "2:\n",
      "3:5,6,\n",
      "5:\n",
      "6:7,8,9,\n",
      "7:\n",
      "8:\n",
      "9:\n",
      "4:\n",
      "9\n"
     ]
    }
   ],
   "source": [
    "root = takeInput()\n",
    "printTree(root)\n",
    "print(numberOfNodesInGenericTree(root))"
   ]
  }
 ],
 "metadata": {
  "kernelspec": {
   "display_name": "Python 3.9.13 64-bit",
   "language": "python",
   "name": "python3"
  },
  "language_info": {
   "codemirror_mode": {
    "name": "ipython",
    "version": 3
   },
   "file_extension": ".py",
   "mimetype": "text/x-python",
   "name": "python",
   "nbconvert_exporter": "python",
   "pygments_lexer": "ipython3",
   "version": "3.9.13"
  },
  "orig_nbformat": 4,
  "vscode": {
   "interpreter": {
    "hash": "b0fa6594d8f4cbf19f97940f81e996739fb7646882a419484c72d19e05852a7e"
   }
  }
 },
 "nbformat": 4,
 "nbformat_minor": 2
}
