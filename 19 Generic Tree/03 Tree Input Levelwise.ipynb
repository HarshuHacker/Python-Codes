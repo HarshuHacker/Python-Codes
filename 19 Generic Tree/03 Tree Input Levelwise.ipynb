{
 "cells": [
  {
   "cell_type": "code",
   "execution_count": 6,
   "metadata": {},
   "outputs": [],
   "source": [
    "class GenericTreeNode:\n",
    "  def __init__(self,data):\n",
    "    self.data = data\n",
    "    self.children = []"
   ]
  },
  {
   "cell_type": "code",
   "execution_count": 13,
   "metadata": {},
   "outputs": [],
   "source": [
    "import queue\n",
    "def inputLevelWise():\n",
    "  q = queue.Queue()\n",
    "  rootData = int(input(\"Enter Root Data : \"))\n",
    "  if(rootData == -1):\n",
    "    return None\n",
    "  root = GenericTreeNode(rootData)\n",
    "  q.put(root)\n",
    "  while(q.qsize() != 0):\n",
    "    curr = q.get()\n",
    "    numChild = int(input(\"Enter The Number Of Children Of \" + str(curr.data)))\n",
    "    for i in range(numChild):\n",
    "      childData = int(input(\"Enter The Next Child For \" + str(curr.data)))\n",
    "      child = GenericTreeNode(childData)\n",
    "      curr.children.append(child)\n",
    "      q.put(child)\n",
    "  return root"
   ]
  },
  {
   "cell_type": "code",
   "execution_count": 8,
   "metadata": {},
   "outputs": [],
   "source": [
    "def printTree(root):\n",
    "  if(root == None): #This Is Not A Base Case But An Edge Case\n",
    "    return\n",
    "  print(root.data, end = \":\")\n",
    "  for child in root.children:\n",
    "    print(child.data, end = \",\")\n",
    "  print()\n",
    "  for child in root.children:\n",
    "    printTree(child)"
   ]
  },
  {
   "cell_type": "code",
   "execution_count": 14,
   "metadata": {},
   "outputs": [
    {
     "name": "stdout",
     "output_type": "stream",
     "text": [
      "1:2,3,4,\n",
      "2:\n",
      "3:5,6,\n",
      "5:\n",
      "6:7,8,9,\n",
      "7:\n",
      "8:\n",
      "9:\n",
      "4:\n"
     ]
    }
   ],
   "source": [
    "root = inputLevelWise()\n",
    "printTree(root)"
   ]
  }
 ],
 "metadata": {
  "kernelspec": {
   "display_name": "Python 3.9.13 64-bit",
   "language": "python",
   "name": "python3"
  },
  "language_info": {
   "codemirror_mode": {
    "name": "ipython",
    "version": 3
   },
   "file_extension": ".py",
   "mimetype": "text/x-python",
   "name": "python",
   "nbconvert_exporter": "python",
   "pygments_lexer": "ipython3",
   "version": "3.9.13"
  },
  "orig_nbformat": 4,
  "vscode": {
   "interpreter": {
    "hash": "b0fa6594d8f4cbf19f97940f81e996739fb7646882a419484c72d19e05852a7e"
   }
  }
 },
 "nbformat": 4,
 "nbformat_minor": 2
}
