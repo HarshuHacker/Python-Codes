{
 "cells": [
  {
   "cell_type": "code",
   "execution_count": 25,
   "metadata": {},
   "outputs": [],
   "source": [
    "class GenericTreeNode:\n",
    "  def __init__(self,data):\n",
    "    self.data = data\n",
    "    self.children = []\n",
    "    \n",
    "# n1 = GenericTreeNode(5)\n",
    "# n2 = GenericTreeNode(2)\n",
    "# n3 = GenericTreeNode(9)\n",
    "# n4 = GenericTreeNode(8)\n",
    "# n5 = GenericTreeNode(7)\n",
    "# n6 = GenericTreeNode(15)\n",
    "# n7 = GenericTreeNode(1)\n",
    "\n",
    "# n1.children.append(n2)\n",
    "# n1.children.append(n3)\n",
    "# n1.children.append(n4)\n",
    "# n1.children.append(n5)\n",
    "\n",
    "# n3.children.append(n6)\n",
    "# n3.children.append(n7)"
   ]
  },
  {
   "cell_type": "code",
   "execution_count": 34,
   "metadata": {},
   "outputs": [],
   "source": [
    "def takeInput():\n",
    "  rootData = int(input(\"Enter Root Data\"))\n",
    "  if(rootData == -1):\n",
    "    return None\n",
    "  root = GenericTreeNode(rootData)\n",
    "  numOfChildren = int(input(\"Enter The Number Of Children Of \" + str(root.data)))\n",
    "  for i in range(numOfChildren):\n",
    "    child = takeInput()\n",
    "    root.children.append(child)\n",
    "  return root"
   ]
  },
  {
   "cell_type": "code",
   "execution_count": 27,
   "metadata": {},
   "outputs": [],
   "source": [
    "def printTree(root):\n",
    "  print(root.data)\n",
    "  for child in root.children:\n",
    "    printTree(child)"
   ]
  },
  {
   "cell_type": "code",
   "execution_count": 28,
   "metadata": {},
   "outputs": [],
   "source": [
    "def printTree(root):\n",
    "  if(root == None): #This Is Not A Base Case But An Edge Case\n",
    "    return\n",
    "  print(root.data, end = \":\")\n",
    "  for child in root.children:\n",
    "    print(child.data, end = \",\")\n",
    "  print()\n",
    "  for child in root.children:\n",
    "    printTree(child)\n"
   ]
  },
  {
   "cell_type": "code",
   "execution_count": 36,
   "metadata": {},
   "outputs": [
    {
     "name": "stdout",
     "output_type": "stream",
     "text": [
      "5:2,9,8,7,\n",
      "2:\n",
      "9:15,1,\n",
      "15:\n",
      "1:\n",
      "8:\n",
      "7:\n"
     ]
    }
   ],
   "source": [
    "root = takeInput()\n",
    "printTree(root)"
   ]
  }
 ],
 "metadata": {
  "kernelspec": {
   "display_name": "Python 3.9.13 64-bit",
   "language": "python",
   "name": "python3"
  },
  "language_info": {
   "codemirror_mode": {
    "name": "ipython",
    "version": 3
   },
   "file_extension": ".py",
   "mimetype": "text/x-python",
   "name": "python",
   "nbconvert_exporter": "python",
   "pygments_lexer": "ipython3",
   "version": "3.9.13"
  },
  "orig_nbformat": 4,
  "vscode": {
   "interpreter": {
    "hash": "b0fa6594d8f4cbf19f97940f81e996739fb7646882a419484c72d19e05852a7e"
   }
  }
 },
 "nbformat": 4,
 "nbformat_minor": 2
}
