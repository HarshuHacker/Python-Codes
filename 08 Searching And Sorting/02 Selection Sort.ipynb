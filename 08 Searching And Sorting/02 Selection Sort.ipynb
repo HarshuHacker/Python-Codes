{
 "cells": [
  {
   "cell_type": "code",
   "execution_count": 11,
   "metadata": {},
   "outputs": [
    {
     "name": "stdout",
     "output_type": "stream",
     "text": [
      "After Sorting The List Is :  [2, 3, 4, 5, 6]\n"
     ]
    }
   ],
   "source": [
    "# The Minimum Element Is Swaped With The ith Index\n",
    "# For i loops we will get first i minimum elements\n",
    "\n",
    "def selectionSort(li, n):\n",
    "  for i in range(n-1):\n",
    "    min = i\n",
    "    for j in range(i, n):\n",
    "      if(li[j] < li[min]):\n",
    "        min = j\n",
    "    li[i], li[min] = li[min], li[i]\n",
    "\n",
    "# li = [int(x) for x in input().split()]\n",
    "li = [3, 5, 4, 6, 2]\n",
    "n = len(li)\n",
    "selectionSort(li, n)\n",
    "print(\"After Sorting The List Is : \", li)"
   ]
  }
 ],
 "metadata": {
  "interpreter": {
   "hash": "b0fa6594d8f4cbf19f97940f81e996739fb7646882a419484c72d19e05852a7e"
  },
  "kernelspec": {
   "display_name": "Python 3.9.13 64-bit",
   "language": "python",
   "name": "python3"
  },
  "language_info": {
   "codemirror_mode": {
    "name": "ipython",
    "version": 3
   },
   "file_extension": ".py",
   "mimetype": "text/x-python",
   "name": "python",
   "nbconvert_exporter": "python",
   "pygments_lexer": "ipython3",
   "version": "3.9.13"
  },
  "orig_nbformat": 4
 },
 "nbformat": 4,
 "nbformat_minor": 2
}
