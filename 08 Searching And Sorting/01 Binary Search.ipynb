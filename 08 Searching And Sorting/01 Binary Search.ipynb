{
 "cells": [
  {
   "cell_type": "code",
   "execution_count": 7,
   "metadata": {},
   "outputs": [
    {
     "name": "stdout",
     "output_type": "stream",
     "text": [
      "Enter The Elements Of The List : \n",
      "Enter The Element To Be Searched : \n",
      "-1\n"
     ]
    }
   ],
   "source": [
    "def binarySearch(li, n, x):\n",
    "  start = 0\n",
    "  end = n-1\n",
    "  while (start <= end):\n",
    "    mid = (start + end)//2\n",
    "    if(li[mid] == x):\n",
    "      return mid\n",
    "    elif(li[mid] > x):\n",
    "      end = mid - 1\n",
    "    else:\n",
    "      start = mid + 1\n",
    "  return -1\n",
    "\n",
    "print(\"Enter The Elements Of The List : \")\n",
    "li = [int(x) for x in input().split()]\n",
    "n = len(li)\n",
    "print(\"Enter The Element To Be Searched : \")\n",
    "x = int(input())\n",
    "print(binarySearch(li, n, x))\n"
   ]
  }
 ],
 "metadata": {
  "interpreter": {
   "hash": "b0fa6594d8f4cbf19f97940f81e996739fb7646882a419484c72d19e05852a7e"
  },
  "kernelspec": {
   "display_name": "Python 3.9.13 64-bit",
   "language": "python",
   "name": "python3"
  },
  "language_info": {
   "codemirror_mode": {
    "name": "ipython",
    "version": 3
   },
   "file_extension": ".py",
   "mimetype": "text/x-python",
   "name": "python",
   "nbconvert_exporter": "python",
   "pygments_lexer": "ipython3",
   "version": "3.9.13"
  },
  "orig_nbformat": 4
 },
 "nbformat": 4,
 "nbformat_minor": 2
}
