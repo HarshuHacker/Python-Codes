{
 "cells": [
  {
   "cell_type": "code",
   "execution_count": 22,
   "metadata": {},
   "outputs": [
    {
     "name": "stdout",
     "output_type": "stream",
     "text": [
      "After Sorting The List Is :  [1, 5, 6, 7, 8, 9]\n"
     ]
    }
   ],
   "source": [
    "def insertionSort(li, n):\n",
    "  for i in range (1, n):\n",
    "    curr = li[i]\n",
    "    for j in range(i-1, -1, -1):\n",
    "      if(j == 0 and curr < li[j]):\n",
    "        li[j+1] = li[j]\n",
    "        li[j] = curr\n",
    "      elif(curr < li[j]):\n",
    "        li[j+1] = li[j]\n",
    "      else:\n",
    "        li[j+1] = curr\n",
    "        break\n",
    "      \n",
    "\n",
    "\n",
    "# li = [int(x) for x in input().split()]\n",
    "li = [9, 8, 6, 5, 7, 1]\n",
    "n = len(li)\n",
    "insertionSort(li, n)\n",
    "print(\"After Sorting The List Is : \", li)"
   ]
  },
  {
   "cell_type": "code",
   "execution_count": 1,
   "metadata": {},
   "outputs": [
    {
     "name": "stdout",
     "output_type": "stream",
     "text": [
      "After Sorting The List Is :  [1, 5, 6, 7, 8, 9]\n"
     ]
    }
   ],
   "source": [
    "def insertionSort(li, n):\n",
    "  for i in range (1, n):\n",
    "    curr = li[i]\n",
    "    j = i-1\n",
    "    while(j >= 0 and curr < li[j]):\n",
    "      li[j+1] = li[j]\n",
    "      j -= 1\n",
    "    li[j+1] = curr\n",
    "      \n",
    "\n",
    "\n",
    "# li = [int(x) for x in input().split()]\n",
    "li = [9, 8, 6, 5, 7, 1]\n",
    "n = len(li)\n",
    "insertionSort(li, n)\n",
    "print(\"After Sorting The List Is : \", li)"
   ]
  }
 ],
 "metadata": {
  "interpreter": {
   "hash": "b0fa6594d8f4cbf19f97940f81e996739fb7646882a419484c72d19e05852a7e"
  },
  "kernelspec": {
   "display_name": "Python 3.9.13 64-bit",
   "language": "python",
   "name": "python3"
  },
  "language_info": {
   "codemirror_mode": {
    "name": "ipython",
    "version": 3
   },
   "file_extension": ".py",
   "mimetype": "text/x-python",
   "name": "python",
   "nbconvert_exporter": "python",
   "pygments_lexer": "ipython3",
   "version": "3.9.13"
  },
  "orig_nbformat": 4
 },
 "nbformat": 4,
 "nbformat_minor": 2
}
