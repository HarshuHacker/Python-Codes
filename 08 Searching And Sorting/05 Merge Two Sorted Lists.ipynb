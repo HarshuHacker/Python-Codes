{
 "cells": [
  {
   "cell_type": "markdown",
   "metadata": {},
   "source": [
    "arr1 = [1, 4, 9, 10]\n",
    "arr2 = [2, 3, 6, 7, 8]"
   ]
  },
  {
   "cell_type": "code",
   "execution_count": null,
   "metadata": {},
   "outputs": [],
   "source": [
    "def mergeTwoSortedArrays(li1, n, li2, m):\n",
    "  li3 = []\n",
    "  while len(li1)>0 and len(li2)>0:\n",
    "    if(li1[0] >= li2[0]):\n",
    "      li3.append(li2[0])\n",
    "      li2.remove(li2[0])\n",
    "    elif(li1[0] < li2[0]):\n",
    "      li3.append(li1[0])\n",
    "      li1.remove(li1[0])\n",
    "    print(li1)\n",
    "    print(li2)\n",
    "    print(li3)\n",
    "    print()\n",
    "  if(len(li1) > 0):\n",
    "    for ele in li1:\n",
    "      li3.append(ele)\n",
    "  elif(len(li2) > 0):\n",
    "    for ele in li2:\n",
    "      li3.append(ele)\n",
    "  return li3 \n",
    "\n",
    "# li = [int(x) for x in input().split()]\n",
    "li1 = [1, 3, 6, 11, 12, 17]\n",
    "# li = [int(x) for x in input().split()]\n",
    "li2 = [2, 8, 12, 16, 19]\n",
    "li3 = mergeTwoSortedArrays(li1, len(li1), li2, len(li2))\n",
    "print(li3)"
   ]
  },
  {
   "cell_type": "code",
   "execution_count": 7,
   "metadata": {},
   "outputs": [
    {
     "name": "stdout",
     "output_type": "stream",
     "text": [
      "[1, 2, 3, 6, 8, 11, 12, 12, 16, 17, 19]\n"
     ]
    }
   ],
   "source": [
    "def mergeTwoSortedArrays(li1, n, li2, m):\n",
    "  li3 = []\n",
    "  i = 0\n",
    "  j = 0\n",
    "  while i<len(li1) and j<len(li2):\n",
    "    if(li1[i] >= li2[j]):\n",
    "      li3.append(li2[j])\n",
    "      j += 1\n",
    "    elif(li1[0] < li2[0]):\n",
    "      li3.append(li1[i])\n",
    "      i += 1\n",
    "  if(len(li1) > i):\n",
    "    for i in range(i, n):\n",
    "      li3.append(li1[i])\n",
    "  elif(len(li2) > j):\n",
    "    for i in range(j, m):\n",
    "      li3.append(li2[j])\n",
    "  return li3 \n",
    "\n",
    "# li = [int(x) for x in input().split()]\n",
    "li1 = [1, 3, 6, 11, 12, 17]\n",
    "# li = [int(x) for x in input().split()]\n",
    "li2 = [2, 8, 12, 16, 19]\n",
    "li3 = mergeTwoSortedArrays(li1, len(li1), li2, len(li2))\n",
    "print(li3)"
   ]
  }
 ],
 "metadata": {
  "interpreter": {
   "hash": "b0fa6594d8f4cbf19f97940f81e996739fb7646882a419484c72d19e05852a7e"
  },
  "kernelspec": {
   "display_name": "Python 3.9.13 64-bit",
   "language": "python",
   "name": "python3"
  },
  "language_info": {
   "codemirror_mode": {
    "name": "ipython",
    "version": 3
   },
   "file_extension": ".py",
   "mimetype": "text/x-python",
   "name": "python",
   "nbconvert_exporter": "python",
   "pygments_lexer": "ipython3",
   "version": "3.9.13"
  },
  "orig_nbformat": 4
 },
 "nbformat": 4,
 "nbformat_minor": 2
}
