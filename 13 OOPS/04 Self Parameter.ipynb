{
 "cells": [
  {
   "cell_type": "markdown",
   "metadata": {},
   "source": [
    "The Attribute Age Is Scoped Only Inside The Function studentDetails And Cannot Be Accessed Outside the Function Whereas Percentage Attribute Can Be Accessed Outside The Class Also"
   ]
  },
  {
   "cell_type": "code",
   "execution_count": 21,
   "metadata": {},
   "outputs": [
    {
     "name": "stdout",
     "output_type": "stream",
     "text": [
      "Name :  Harsh\n",
      "Name :  Harsh\n",
      "Passed\n",
      "{'name': 'Harsh', 'percentage': 80}\n"
     ]
    },
    {
     "ename": "NameError",
     "evalue": "name 'age' is not defined",
     "output_type": "error",
     "traceback": [
      "\u001b[0;31m---------------------------------------------------------------------------\u001b[0m",
      "\u001b[0;31mNameError\u001b[0m                                 Traceback (most recent call last)",
      "\u001b[1;32m/Users/harshprasad/Movies/Study/Python/Python-Codes/13 OOPS/04 Self Parameter.ipynb Cell 2'\u001b[0m in \u001b[0;36m<cell line: 29>\u001b[0;34m()\u001b[0m\n\u001b[1;32m     <a href='vscode-notebook-cell:/Users/harshprasad/Movies/Study/Python/Python-Codes/13%20OOPS/04%20Self%20Parameter.ipynb#ch0000000?line=26'>27</a>\u001b[0m s1\u001b[39m.\u001b[39misPassed()\n\u001b[1;32m     <a href='vscode-notebook-cell:/Users/harshprasad/Movies/Study/Python/Python-Codes/13%20OOPS/04%20Self%20Parameter.ipynb#ch0000000?line=27'>28</a>\u001b[0m \u001b[39mprint\u001b[39m(s1\u001b[39m.\u001b[39m\u001b[39m__dict__\u001b[39m)\n\u001b[0;32m---> <a href='vscode-notebook-cell:/Users/harshprasad/Movies/Study/Python/Python-Codes/13%20OOPS/04%20Self%20Parameter.ipynb#ch0000000?line=28'>29</a>\u001b[0m s1\u001b[39m.\u001b[39;49meligible()\n",
      "\u001b[1;32m/Users/harshprasad/Movies/Study/Python/Python-Codes/13 OOPS/04 Self Parameter.ipynb Cell 2'\u001b[0m in \u001b[0;36mStudent.eligible\u001b[0;34m(self)\u001b[0m\n\u001b[1;32m     <a href='vscode-notebook-cell:/Users/harshprasad/Movies/Study/Python/Python-Codes/13%20OOPS/04%20Self%20Parameter.ipynb#ch0000000?line=15'>16</a>\u001b[0m \u001b[39mdef\u001b[39;00m \u001b[39meligible\u001b[39m(\u001b[39mself\u001b[39m):\n\u001b[0;32m---> <a href='vscode-notebook-cell:/Users/harshprasad/Movies/Study/Python/Python-Codes/13%20OOPS/04%20Self%20Parameter.ipynb#ch0000000?line=16'>17</a>\u001b[0m   \u001b[39mif\u001b[39;00m(age \u001b[39m>\u001b[39m student\u001b[39m.\u001b[39mminAge):\n\u001b[1;32m     <a href='vscode-notebook-cell:/Users/harshprasad/Movies/Study/Python/Python-Codes/13%20OOPS/04%20Self%20Parameter.ipynb#ch0000000?line=17'>18</a>\u001b[0m     \u001b[39mprint\u001b[39m(\u001b[39m\"\u001b[39m\u001b[39mEligible\u001b[39m\u001b[39m\"\u001b[39m)\n\u001b[1;32m     <a href='vscode-notebook-cell:/Users/harshprasad/Movies/Study/Python/Python-Codes/13%20OOPS/04%20Self%20Parameter.ipynb#ch0000000?line=18'>19</a>\u001b[0m   \u001b[39melse\u001b[39;00m:\n",
      "\u001b[0;31mNameError\u001b[0m: name 'age' is not defined"
     ]
    }
   ],
   "source": [
    "class Student:\n",
    "  passingPercentage = 40\n",
    "  minAge = 20\n",
    "  def studentDetails(self):\n",
    "    self.name = \"Harsh\"\n",
    "    self.percentage = 80\n",
    "    age = 21\n",
    "    print(\"Name : \", self.name)\n",
    "  \n",
    "  def isPassed(self):\n",
    "    if(self.percentage > Student.passingPercentage):\n",
    "      print(\"Passed\")\n",
    "    else:\n",
    "      print(\"Failed\")\n",
    "\n",
    "  def eligible(self):\n",
    "    if(age > Student.minAge):\n",
    "      print(\"Eligible\")\n",
    "    else:\n",
    "      print(\"Not Eligible\")\n",
    "\n",
    "s1 = Student()\n",
    "# Both These Are Same\n",
    "# In The FIrst One We Dont Pass Argument But By Default We Pass The Object Name In It And In The Second One We Pass The Argument Which Actually Happens \n",
    "s1.studentDetails()\n",
    "Student.studentDetails(s1)\n",
    "s1.isPassed()\n",
    "print(s1.__dict__)\n",
    "s1.eligible()"
   ]
  }
 ],
 "metadata": {
  "kernelspec": {
   "display_name": "Python 3.9.6 64-bit",
   "language": "python",
   "name": "python3"
  },
  "language_info": {
   "codemirror_mode": {
    "name": "ipython",
    "version": 3
   },
   "file_extension": ".py",
   "mimetype": "text/x-python",
   "name": "python",
   "nbconvert_exporter": "python",
   "pygments_lexer": "ipython3",
   "version": "3.9.6"
  },
  "orig_nbformat": 4,
  "vscode": {
   "interpreter": {
    "hash": "31f2aee4e71d21fbe5cf8b01ff0e069b9275f58929596ceb00d14d90e3e16cd6"
   }
  }
 },
 "nbformat": 4,
 "nbformat_minor": 2
}
