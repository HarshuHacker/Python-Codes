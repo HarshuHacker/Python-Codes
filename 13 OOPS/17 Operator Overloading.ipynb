{
 "cells": [
  {
   "cell_type": "code",
   "execution_count": 11,
   "metadata": {},
   "outputs": [
    {
     "name": "stdout",
     "output_type": "stream",
     "text": [
      "This Point Is At (8, 11)\n",
      "True\n"
     ]
    }
   ],
   "source": [
    "import math\n",
    "class Point:\n",
    "  def __init__(self, x, y):\n",
    "    self.__x = x\n",
    "    self.__y = y\n",
    "\n",
    "  def __str__(self):\n",
    "    return \"This Point Is At (\" + str(self.__x) + \", \" + str(self.__y) + \")\"\n",
    "\n",
    "  def __add__(self, point_object):\n",
    "    return Point(self.__x + point_object.__x, self.__y + point_object.__y)\n",
    "\n",
    "  def __lt__(self, point_object):\n",
    "    return math.sqrt(self.__x**2 + self.__y**2) < math.sqrt(point_object.__x**2 + point_object.__y**2)\n",
    "\n",
    "obj1 = Point(3, 4)\n",
    "obj2 = Point(5, 7)\n",
    "obj3 = obj1 + obj2\n",
    "print(obj3)\n",
    "obj4 = obj1 < obj2\n",
    "print(obj4)\n"
   ]
  }
 ],
 "metadata": {
  "kernelspec": {
   "display_name": "Python 3.9.13 64-bit",
   "language": "python",
   "name": "python3"
  },
  "language_info": {
   "codemirror_mode": {
    "name": "ipython",
    "version": 3
   },
   "file_extension": ".py",
   "mimetype": "text/x-python",
   "name": "python",
   "nbconvert_exporter": "python",
   "pygments_lexer": "ipython3",
   "version": "3.9.13"
  },
  "orig_nbformat": 4,
  "vscode": {
   "interpreter": {
    "hash": "b0fa6594d8f4cbf19f97940f81e996739fb7646882a419484c72d19e05852a7e"
   }
  }
 },
 "nbformat": 4,
 "nbformat_minor": 2
}
