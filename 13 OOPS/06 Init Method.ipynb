{
 "cells": [
  {
   "cell_type": "code",
   "execution_count": 4,
   "metadata": {},
   "outputs": [
    {
     "name": "stdout",
     "output_type": "stream",
     "text": [
      "{'name': 'Harsh Prasad', 'rollNumber': 12}\n",
      "{'name': 'Chetan Singh', 'rollNumber': 8}\n"
     ]
    }
   ],
   "source": [
    "class student:\n",
    "  def __init__(self, name, rollNumber):\n",
    "    self.name = name\n",
    "    self.rollNumber = rollNumber\n",
    "\n",
    "s1 = student(\"Harsh Prasad\", 12)\n",
    "s2 = student(\"Chetan Singh\", 8)\n",
    "print(s1.__dict__)\n",
    "print(s2.__dict__)"
   ]
  }
 ],
 "metadata": {
  "kernelspec": {
   "display_name": "Python 3.9.13 64-bit",
   "language": "python",
   "name": "python3"
  },
  "language_info": {
   "codemirror_mode": {
    "name": "ipython",
    "version": 3
   },
   "file_extension": ".py",
   "mimetype": "text/x-python",
   "name": "python",
   "nbconvert_exporter": "python",
   "pygments_lexer": "ipython3",
   "version": "3.9.13"
  },
  "orig_nbformat": 4,
  "vscode": {
   "interpreter": {
    "hash": "b0fa6594d8f4cbf19f97940f81e996739fb7646882a419484c72d19e05852a7e"
   }
  }
 },
 "nbformat": 4,
 "nbformat_minor": 2
}
