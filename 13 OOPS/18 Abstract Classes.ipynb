{
 "cells": [
  {
   "cell_type": "markdown",
   "metadata": {},
   "source": [
    "Objects For Abstract Class Cannot Be Created."
   ]
  },
  {
   "cell_type": "markdown",
   "metadata": {},
   "source": [
    "Its Mandatory To Implement All The Methods Of The Abstract Class In The Child Class."
   ]
  },
  {
   "cell_type": "markdown",
   "metadata": {},
   "source": [
    "If All The Methods Are Abstract Then It Is Called An Interface In Java / Pure Abstract Class In C++"
   ]
  },
  {
   "cell_type": "code",
   "execution_count": 11,
   "metadata": {},
   "outputs": [
    {
     "name": "stdout",
     "output_type": "stream",
     "text": [
      "Car Created\n",
      "Bus Created\n",
      "Hlo Satu\n"
     ]
    }
   ],
   "source": [
    "from abc import ABC, abstractmethod\n",
    "\n",
    "class Automobile(ABC):\n",
    "\n",
    "\tdef __init__(self):\n",
    "\t\tprint(\"Automobile Created\")\n",
    "\t\t\n",
    "\t@abstractmethod\n",
    "\tdef start(self):\n",
    "\t\tpass\n",
    "\t\n",
    "\t@abstractmethod\n",
    "\tdef stop(self):\n",
    "\t\tpass\n",
    "\t\n",
    "\tdef drive(self):\n",
    "\t\tprint(\"Hlo Satu\")\n",
    "\n",
    "class Car(Automobile):\n",
    "\n",
    "\tdef __init__(self, name):\n",
    "\t\tprint(\"Car Created\")\n",
    "\t\tself.name = name\n",
    "\n",
    "\tdef start(self):\n",
    "\t\tpass\n",
    "\n",
    "\tdef stop(self):\n",
    "\t\tpass\n",
    "\n",
    "\tdef drive(self):\n",
    "\t\tpass\n",
    "\n",
    "class Bus(Automobile):\n",
    "\n",
    "\tdef __init__(self, name):\n",
    "\t\tprint(\"Bus Created\")\n",
    "\t\tself.name = name\n",
    "\n",
    "\tdef start(self):\n",
    "\t\tpass\n",
    "\n",
    "\tdef stop(self):\n",
    "\t\tpass\n",
    "\n",
    "c1 = Car(\"Nissan\")\n",
    "b1 = Bus(\"Volvo\")\n",
    "b1.drive()"
   ]
  }
 ],
 "metadata": {
  "kernelspec": {
   "display_name": "Python 3.9.13 64-bit",
   "language": "python",
   "name": "python3"
  },
  "language_info": {
   "codemirror_mode": {
    "name": "ipython",
    "version": 3
   },
   "file_extension": ".py",
   "mimetype": "text/x-python",
   "name": "python",
   "nbconvert_exporter": "python",
   "pygments_lexer": "ipython3",
   "version": "3.9.13"
  },
  "orig_nbformat": 4,
  "vscode": {
   "interpreter": {
    "hash": "b0fa6594d8f4cbf19f97940f81e996739fb7646882a419484c72d19e05852a7e"
   }
  }
 },
 "nbformat": 4,
 "nbformat_minor": 2
}
