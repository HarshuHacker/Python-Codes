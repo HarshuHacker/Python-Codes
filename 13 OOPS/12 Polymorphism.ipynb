{
 "cells": [
  {
   "cell_type": "code",
   "execution_count": 12,
   "metadata": {},
   "outputs": [
    {
     "name": "stdout",
     "output_type": "stream",
     "text": [
      "Colour :  Silver\n",
      "MaxSpeed :  220\n",
      "Number Of Gears :  5\n",
      "Is Convertible :  False\n"
     ]
    }
   ],
   "source": [
    "class Vehicle:\n",
    "  def __init__(self, colour, maxSpeed):\n",
    "    self.colour = colour\n",
    "    self.__maxSpeed = maxSpeed\n",
    "\n",
    "  def print(self):\n",
    "    print(\"Colour : \", self.colour)\n",
    "    print(\"MaxSpeed : \", self.__maxSpeed)\n",
    "\n",
    "class Car(Vehicle):\n",
    "  def __init__(self, colour, maxSpeed, numGears, isConvertible):\n",
    "    super().__init__(colour, maxSpeed)\n",
    "    self.numGears = numGears\n",
    "    self.isConvertible = isConvertible\n",
    "\n",
    "  def print(self):\n",
    "    super().print()\n",
    "    # self.printVehicle() Here Self .print() will call this print Function again and again\n",
    "    # self.print() \n",
    "    print(\"Number Of Gears : \", self.numGears)\n",
    "    print(\"Is Convertible : \", self.isConvertible)\n",
    "\n",
    "c1 = Car(\"Silver\", 220, 5, False)\n",
    "c1.print()"
   ]
  }
 ],
 "metadata": {
  "kernelspec": {
   "display_name": "Python 3.9.13 64-bit",
   "language": "python",
   "name": "python3"
  },
  "language_info": {
   "codemirror_mode": {
    "name": "ipython",
    "version": 3
   },
   "file_extension": ".py",
   "mimetype": "text/x-python",
   "name": "python",
   "nbconvert_exporter": "python",
   "pygments_lexer": "ipython3",
   "version": "3.9.13"
  },
  "orig_nbformat": 4,
  "vscode": {
   "interpreter": {
    "hash": "b0fa6594d8f4cbf19f97940f81e996739fb7646882a419484c72d19e05852a7e"
   }
  }
 },
 "nbformat": 4,
 "nbformat_minor": 2
}
