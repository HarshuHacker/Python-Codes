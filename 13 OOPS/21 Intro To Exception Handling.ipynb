{
 "cells": [
  {
   "cell_type": "code",
   "execution_count": 11,
   "metadata": {},
   "outputs": [
    {
     "name": "stdout",
     "output_type": "stream",
     "text": [
      "Numerators And Denominators Must Be Integers.\n",
      "Denominators Must Not Be Equal To Zero.\n",
      "1.25\n"
     ]
    }
   ],
   "source": [
    "while True:\n",
    "  try:\n",
    "    num = int(input(\"Enter The Numerator : \"))\n",
    "    den = int(input(\"Enter The Denominator : \"))\n",
    "\n",
    "    ans = num / den\n",
    "    print(ans)\n",
    "    break\n",
    "\n",
    "  except ValueError:\n",
    "    print(\"Numerators And Denominators Must Be Integers.\")\n",
    "\n",
    "  except ZeroDivisionError:\n",
    "    print(\"Denominators Must Not Be Equal To Zero.\")\n",
    "\n",
    "  except : \n",
    "    print(\"There Is Some Other Errors.\")"
   ]
  }
 ],
 "metadata": {
  "kernelspec": {
   "display_name": "Python 3.9.13 64-bit",
   "language": "python",
   "name": "python3"
  },
  "language_info": {
   "codemirror_mode": {
    "name": "ipython",
    "version": 3
   },
   "file_extension": ".py",
   "mimetype": "text/x-python",
   "name": "python",
   "nbconvert_exporter": "python",
   "pygments_lexer": "ipython3",
   "version": "3.9.13"
  },
  "orig_nbformat": 4,
  "vscode": {
   "interpreter": {
    "hash": "b0fa6594d8f4cbf19f97940f81e996739fb7646882a419484c72d19e05852a7e"
   }
  }
 },
 "nbformat": 4,
 "nbformat_minor": 2
}
