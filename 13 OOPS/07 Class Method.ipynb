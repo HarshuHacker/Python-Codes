{
 "cells": [
  {
   "cell_type": "code",
   "execution_count": 31,
   "metadata": {},
   "outputs": [
    {
     "name": "stdout",
     "output_type": "stream",
     "text": [
      "{'name': 'Harsh Prasad', 'age': 21, 'rollNumber': 12}\n",
      "{'name': 'Chetan Singh', 'age': 19, 'rollNumber': 8}\n"
     ]
    }
   ],
   "source": [
    "from datetime import date\n",
    "class Student:\n",
    "  def __init__(self, name = \"Unknown User\", age = 1, rollNumber = 0):\n",
    "    self.name = name\n",
    "    self.age = age\n",
    "    self.rollNumber = rollNumber\n",
    "\n",
    "  @classmethod\n",
    "  def birthYear(cls, name, year, rollNumber):\n",
    "    return cls(name, date.today().year - year, rollNumber)\n",
    "\n",
    "s1 = Student.birthYear(\"Harsh Prasad\", 2001, 12)\n",
    "s2 = Student.birthYear(\"Chetan Singh\", 2003, 8)\n",
    "print(s1.__dict__)\n",
    "print(s2.__dict__)"
   ]
  }
 ],
 "metadata": {
  "kernelspec": {
   "display_name": "Python 3.9.13 64-bit",
   "language": "python",
   "name": "python3"
  },
  "language_info": {
   "codemirror_mode": {
    "name": "ipython",
    "version": 3
   },
   "file_extension": ".py",
   "mimetype": "text/x-python",
   "name": "python",
   "nbconvert_exporter": "python",
   "pygments_lexer": "ipython3",
   "version": "3.9.13"
  },
  "orig_nbformat": 4,
  "vscode": {
   "interpreter": {
    "hash": "b0fa6594d8f4cbf19f97940f81e996739fb7646882a419484c72d19e05852a7e"
   }
  }
 },
 "nbformat": 4,
 "nbformat_minor": 2
}
