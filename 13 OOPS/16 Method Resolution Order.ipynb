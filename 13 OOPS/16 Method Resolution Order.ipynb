{
 "cells": [
  {
   "cell_type": "code",
   "execution_count": 12,
   "metadata": {},
   "outputs": [
    {
     "name": "stdout",
     "output_type": "stream",
     "text": [
      "Class Name :  Mother\n"
     ]
    },
    {
     "data": {
      "text/plain": [
       "[__main__.Child, __main__.Mother, __main__.Father, object]"
      ]
     },
     "execution_count": 12,
     "metadata": {},
     "output_type": "execute_result"
    }
   ],
   "source": [
    "class Father:\n",
    "\n",
    "  def __init__(self):\n",
    "    self.name = \"Father\"\n",
    "\n",
    "class Mother:\n",
    "\n",
    "  def __init__(self):\n",
    "    self.name = \"Mother\"\n",
    "\n",
    "class Child(Mother, Father):\n",
    "\n",
    "  def __init__(self):\n",
    "    super().__init__()\n",
    "\n",
    "  def print(self):\n",
    "    print(\"Class Name : \", self.name)\n",
    "\n",
    "c1 = Child()\n",
    "c1.print()\n",
    "Child.mro()"
   ]
  },
  {
   "cell_type": "code",
   "execution_count": 15,
   "metadata": {},
   "outputs": [
    {
     "name": "stdout",
     "output_type": "stream",
     "text": [
      "Class Name :  Father\n"
     ]
    },
    {
     "data": {
      "text/plain": [
       "[__main__.Child, __main__.Mother, __main__.Father, object]"
      ]
     },
     "execution_count": 15,
     "metadata": {},
     "output_type": "execute_result"
    }
   ],
   "source": [
    "class Father:\n",
    "\n",
    "  def __init__(self):\n",
    "    self.name = \"Father\"\n",
    "\n",
    "class Mother:\n",
    "\n",
    "  def __init__(self):\n",
    "    self.name = \"Mother\"\n",
    "    super().__init__()\n",
    "\n",
    "class Child(Mother, Father):\n",
    "\n",
    "  def __init__(self):\n",
    "    super().__init__()\n",
    "\n",
    "  def print(self):\n",
    "    print(\"Class Name : \", self.name)\n",
    "\n",
    "c1 = Child()\n",
    "c1.print()\n",
    "Child.mro()"
   ]
  }
 ],
 "metadata": {
  "kernelspec": {
   "display_name": "Python 3.9.13 64-bit",
   "language": "python",
   "name": "python3"
  },
  "language_info": {
   "codemirror_mode": {
    "name": "ipython",
    "version": 3
   },
   "file_extension": ".py",
   "mimetype": "text/x-python",
   "name": "python",
   "nbconvert_exporter": "python",
   "pygments_lexer": "ipython3",
   "version": "3.9.13"
  },
  "orig_nbformat": 4,
  "vscode": {
   "interpreter": {
    "hash": "b0fa6594d8f4cbf19f97940f81e996739fb7646882a419484c72d19e05852a7e"
   }
  }
 },
 "nbformat": 4,
 "nbformat_minor": 2
}
