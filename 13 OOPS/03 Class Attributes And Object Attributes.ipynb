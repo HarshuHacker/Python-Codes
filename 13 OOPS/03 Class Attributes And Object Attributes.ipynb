{
 "cells": [
  {
   "cell_type": "markdown",
   "metadata": {},
   "source": [
    "First Instance Attributes Are Checked And Then Class Attributes Are Checked"
   ]
  },
  {
   "cell_type": "code",
   "execution_count": 2,
   "metadata": {},
   "outputs": [],
   "source": [
    "class student:\n",
    "  pp = 80\n",
    "\n",
    "s1 = student()\n",
    "s2 = student()"
   ]
  },
  {
   "cell_type": "markdown",
   "metadata": {},
   "source": [
    "In The Below Code pp Is Present In Instance Attribute So It Will Be Fetched From Instance Attribute"
   ]
  },
  {
   "cell_type": "code",
   "execution_count": 10,
   "metadata": {},
   "outputs": [
    {
     "name": "stdout",
     "output_type": "stream",
     "text": [
      "Harsh 40\n"
     ]
    }
   ],
   "source": [
    "s1.name = \"Harsh\"\n",
    "s1.pp = 40\n",
    "print(s1.name, s1.pp)"
   ]
  },
  {
   "cell_type": "markdown",
   "metadata": {},
   "source": [
    "In The Below Code pp Is Not Present In Instance Attribute So It Will Be Fetched From Class Attribute"
   ]
  },
  {
   "cell_type": "code",
   "execution_count": 12,
   "metadata": {},
   "outputs": [
    {
     "name": "stdout",
     "output_type": "stream",
     "text": [
      "15 80\n"
     ]
    }
   ],
   "source": [
    "s2.rollNumber = 15\n",
    "print(s2.rollNumber, s2.pp)"
   ]
  }
 ],
 "metadata": {
  "kernelspec": {
   "display_name": "Python 3.9.13 64-bit",
   "language": "python",
   "name": "python3"
  },
  "language_info": {
   "codemirror_mode": {
    "name": "ipython",
    "version": 3
   },
   "file_extension": ".py",
   "mimetype": "text/x-python",
   "name": "python",
   "nbconvert_exporter": "python",
   "pygments_lexer": "ipython3",
   "version": "3.9.13"
  },
  "orig_nbformat": 4,
  "vscode": {
   "interpreter": {
    "hash": "b0fa6594d8f4cbf19f97940f81e996739fb7646882a419484c72d19e05852a7e"
   }
  }
 },
 "nbformat": 4,
 "nbformat_minor": 2
}
