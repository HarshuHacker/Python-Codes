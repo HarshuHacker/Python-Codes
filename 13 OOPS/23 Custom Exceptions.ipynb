{
 "cells": [
  {
   "cell_type": "code",
   "execution_count": 4,
   "metadata": {},
   "outputs": [
    {
     "ename": "ZeroDenominatorError",
     "evalue": "ZeroDenominatorError Exception",
     "output_type": "error",
     "traceback": [
      "\u001b[0;31m---------------------------------------------------------------------------\u001b[0m",
      "\u001b[0;31mZeroDenominatorError\u001b[0m                      Traceback (most recent call last)",
      "\u001b[1;32m/Users/harshprasad/Movies/Study/Python/Python-Codes/13 OOPS/23 Custom Exceptions.ipynb Cell 1'\u001b[0m in \u001b[0;36m<cell line: 5>\u001b[0;34m()\u001b[0m\n\u001b[1;32m      <a href='vscode-notebook-cell:/Users/harshprasad/Movies/Study/Python/Python-Codes/13%20OOPS/23%20Custom%20Exceptions.ipynb#ch0000000?line=6'>7</a>\u001b[0m den \u001b[39m=\u001b[39m \u001b[39mint\u001b[39m(\u001b[39minput\u001b[39m(\u001b[39m\"\u001b[39m\u001b[39mEnter The Denominator : \u001b[39m\u001b[39m\"\u001b[39m))\n\u001b[1;32m      <a href='vscode-notebook-cell:/Users/harshprasad/Movies/Study/Python/Python-Codes/13%20OOPS/23%20Custom%20Exceptions.ipynb#ch0000000?line=8'>9</a>\u001b[0m \u001b[39mif\u001b[39;00m(den \u001b[39m==\u001b[39m \u001b[39m0\u001b[39m):\n\u001b[0;32m---> <a href='vscode-notebook-cell:/Users/harshprasad/Movies/Study/Python/Python-Codes/13%20OOPS/23%20Custom%20Exceptions.ipynb#ch0000000?line=9'>10</a>\u001b[0m   \u001b[39mraise\u001b[39;00m ZeroDenominatorError(\u001b[39m\"\u001b[39m\u001b[39mZeroDenominatorError Exception\u001b[39m\u001b[39m\"\u001b[39m)\n\u001b[1;32m     <a href='vscode-notebook-cell:/Users/harshprasad/Movies/Study/Python/Python-Codes/13%20OOPS/23%20Custom%20Exceptions.ipynb#ch0000000?line=10'>11</a>\u001b[0m ans \u001b[39m=\u001b[39m num \u001b[39m/\u001b[39m den\n\u001b[1;32m     <a href='vscode-notebook-cell:/Users/harshprasad/Movies/Study/Python/Python-Codes/13%20OOPS/23%20Custom%20Exceptions.ipynb#ch0000000?line=11'>12</a>\u001b[0m \u001b[39mprint\u001b[39m(ans)\n",
      "\u001b[0;31mZeroDenominatorError\u001b[0m: ZeroDenominatorError Exception"
     ]
    }
   ],
   "source": [
    "class ZeroDenominatorError(Exception):\n",
    "  pass\n",
    "\n",
    "while True:\n",
    "  try:\n",
    "    num = int(input(\"Enter The Numerator : \"))\n",
    "    den = int(input(\"Enter The Denominator : \"))\n",
    "\n",
    "    if(den == 0):\n",
    "      raise ZeroDenominatorError(\"ZeroDenominatorError Exception\")\n",
    "    ans = num / den\n",
    "    print(ans)\n",
    "    break\n",
    "\n",
    "  except ValueError:\n",
    "    print(\"Numerators And Denominators Must Be Integers.\")\n",
    "\n",
    "  except ZeroDivisionError:\n",
    "    print(\"Denominators Must Not Be Equal To Zero.\")"
   ]
  },
  {
   "cell_type": "code",
   "execution_count": 6,
   "metadata": {},
   "outputs": [
    {
     "name": "stdout",
     "output_type": "stream",
     "text": [
      "Denominators Must Not Be Equal To Zero.\n",
      "2.0\n"
     ]
    }
   ],
   "source": [
    "class ZeroDenominatorError(Exception):\n",
    "  pass\n",
    "\n",
    "while True:\n",
    "  try:\n",
    "    num = int(input(\"Enter The Numerator : \"))\n",
    "    den = int(input(\"Enter The Denominator : \"))\n",
    "\n",
    "    if(den == 0):\n",
    "      raise ZeroDenominatorError(\"ZeroDenominatorError Exception\")\n",
    "    ans = num / den\n",
    "    print(ans)\n",
    "    break\n",
    "\n",
    "  except ValueError:\n",
    "    print(\"Numerators And Denominators Must Be Integers.\")\n",
    "\n",
    "  except ZeroDivisionError:\n",
    "    print(\"Division By Zero Is Not Allowed\")\n",
    "\n",
    "  except ZeroDenominatorError:\n",
    "    print(\"Denominators Must Not Be Equal To Zero.\")"
   ]
  }
 ],
 "metadata": {
  "kernelspec": {
   "display_name": "Python 3.9.13 64-bit",
   "language": "python",
   "name": "python3"
  },
  "language_info": {
   "codemirror_mode": {
    "name": "ipython",
    "version": 3
   },
   "file_extension": ".py",
   "mimetype": "text/x-python",
   "name": "python",
   "nbconvert_exporter": "python",
   "pygments_lexer": "ipython3",
   "version": "3.9.13"
  },
  "orig_nbformat": 4,
  "vscode": {
   "interpreter": {
    "hash": "b0fa6594d8f4cbf19f97940f81e996739fb7646882a419484c72d19e05852a7e"
   }
  }
 },
 "nbformat": 4,
 "nbformat_minor": 2
}
