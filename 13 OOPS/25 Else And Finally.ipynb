{
 "cells": [
  {
   "cell_type": "markdown",
   "metadata": {},
   "source": [
    "Else Is Executed If No Exception Is Raised"
   ]
  },
  {
   "cell_type": "code",
   "execution_count": 2,
   "metadata": {},
   "outputs": [
    {
     "name": "stdout",
     "output_type": "stream",
     "text": [
      "2.5\n"
     ]
    }
   ],
   "source": [
    "class ZeroDenominatorError(Exception):\n",
    "  pass\n",
    "\n",
    "while True:\n",
    "  try:\n",
    "    num = int(input(\"Enter The Numerator : \"))\n",
    "    den = int(input(\"Enter The Denominator : \"))\n",
    "\n",
    "    if(den == 0):\n",
    "      raise ZeroDenominatorError(\"ZeroDenominatorError Exception\")\n",
    "    ans = num / den\n",
    "\n",
    "  except ValueError:\n",
    "    print(\"Numerators And Denominators Must Be Integers.\")\n",
    "\n",
    "  except ZeroDivisionError:\n",
    "    print(\"Division By Zero Is Not Allowed\")\n",
    "\n",
    "  except ZeroDenominatorError:\n",
    "    print(\"Denominators Must Not Be Equal To Zero.\")\n",
    "\n",
    "  else:\n",
    "    print(ans)\n",
    "    break"
   ]
  },
  {
   "cell_type": "markdown",
   "metadata": {},
   "source": []
  },
  {
   "cell_type": "code",
   "execution_count": 3,
   "metadata": {},
   "outputs": [
    {
     "name": "stdout",
     "output_type": "stream",
     "text": [
      "2.5\n",
      "This Is Called Irrespective Of Whether Exception Is Raised Or Not\n"
     ]
    }
   ],
   "source": [
    "class ZeroDenominatorError(Exception):\n",
    "  pass\n",
    "\n",
    "while True:\n",
    "  try:\n",
    "    num = int(input(\"Enter The Numerator : \"))\n",
    "    den = int(input(\"Enter The Denominator : \"))\n",
    "\n",
    "    if(den == 0):\n",
    "      raise ZeroDenominatorError(\"ZeroDenominatorError Exception\")\n",
    "    ans = num / den\n",
    "\n",
    "  except ValueError:\n",
    "    print(\"Numerators And Denominators Must Be Integers.\")\n",
    "\n",
    "  except ZeroDivisionError:\n",
    "    print(\"Division By Zero Is Not Allowed\")\n",
    "\n",
    "  except ZeroDenominatorError:\n",
    "    print(\"Denominators Must Not Be Equal To Zero.\")\n",
    "\n",
    "  else:\n",
    "    print(ans)\n",
    "    break\n",
    "\n",
    "  finally:\n",
    "    print(\"This Is Called Irrespective Of Whether Exception Is Raised Or Not\")"
   ]
  }
 ],
 "metadata": {
  "kernelspec": {
   "display_name": "Python 3.9.13 64-bit",
   "language": "python",
   "name": "python3"
  },
  "language_info": {
   "codemirror_mode": {
    "name": "ipython",
    "version": 3
   },
   "file_extension": ".py",
   "mimetype": "text/x-python",
   "name": "python",
   "nbconvert_exporter": "python",
   "pygments_lexer": "ipython3",
   "version": "3.9.13"
  },
  "orig_nbformat": 4,
  "vscode": {
   "interpreter": {
    "hash": "b0fa6594d8f4cbf19f97940f81e996739fb7646882a419484c72d19e05852a7e"
   }
  }
 },
 "nbformat": 4,
 "nbformat_minor": 2
}
