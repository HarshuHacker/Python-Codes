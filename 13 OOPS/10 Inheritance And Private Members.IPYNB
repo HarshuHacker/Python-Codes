{
 "cells": [
  {
   "cell_type": "markdown",
   "metadata": {},
   "source": [
    "We Cannot Access Pro\\ivate Members Outside The Class, So We Are Unable To Print Max Speed Outside The Vehicle Class."
   ]
  },
  {
   "cell_type": "markdown",
   "metadata": {},
   "source": [
    "For Accessing The Max Speed We Can Use Getter And Setter Functions"
   ]
  },
  {
   "cell_type": "code",
   "execution_count": 5,
   "metadata": {},
   "outputs": [
    {
     "name": "stdout",
     "output_type": "stream",
     "text": [
      "Colour :  Silver\n",
      "MaxSpeed :  220\n",
      "Number Of Gears :  5\n",
      "Is Convertible :  False\n"
     ]
    }
   ],
   "source": [
    "class Vehicle:\n",
    "  def __init__(self, colour, maxSpeed):\n",
    "    self.colour = colour\n",
    "    self.__maxSpeed = maxSpeed\n",
    "\n",
    "  def getMaxSpeed(self):\n",
    "    return self.__maxSpeed\n",
    "\n",
    "  def setMaxSpeed(self, maxSpeed):\n",
    "    self.__maxSpeed = maxSpeed\n",
    "\n",
    "class Car(Vehicle):\n",
    "  def __init__(self, colour, maxSpeed, numGears, isConvertible):\n",
    "    super().__init__(colour, maxSpeed)\n",
    "    self.numGears = numGears\n",
    "    self.isConvertible = isConvertible\n",
    "\n",
    "  def printCar(self):\n",
    "    print(\"Colour : \", self.colour)\n",
    "    print(\"MaxSpeed : \", self.getMaxSpeed())\n",
    "    print(\"Number Of Gears : \", self.numGears)\n",
    "    print(\"Is Convertible : \", self.isConvertible)\n",
    "\n",
    "c1 = Car(\"Silver\", 220, 5, False)\n",
    "c1.printCar()"
   ]
  }
 ],
 "metadata": {
  "kernelspec": {
   "display_name": "Python 3.9.13 64-bit",
   "language": "python",
   "name": "python3"
  },
  "language_info": {
   "codemirror_mode": {
    "name": "ipython",
    "version": 3
   },
   "file_extension": ".py",
   "mimetype": "text/x-python",
   "name": "python",
   "nbconvert_exporter": "python",
   "pygments_lexer": "ipython3",
   "version": "3.9.13"
  },
  "orig_nbformat": 4,
  "vscode": {
   "interpreter": {
    "hash": "b0fa6594d8f4cbf19f97940f81e996739fb7646882a419484c72d19e05852a7e"
   }
  }
 },
 "nbformat": 4,
 "nbformat_minor": 2
}
