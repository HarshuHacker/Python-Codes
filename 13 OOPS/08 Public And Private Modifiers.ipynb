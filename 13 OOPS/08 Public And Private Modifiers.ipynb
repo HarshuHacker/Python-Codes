{
 "cells": [
  {
   "cell_type": "markdown",
   "metadata": {},
   "source": [
    "We Can Make A Function Or A Variable Private By Adding __ Infront Of The Function Or The Variable"
   ]
  },
  {
   "cell_type": "markdown",
   "metadata": {},
   "source": [
    "We Can Access The Private Variables Or Function Outside The Class Because Python Doesn't Have Private Modifiers"
   ]
  },
  {
   "cell_type": "markdown",
   "metadata": {},
   "source": [
    "To Access We Need To Use _ClassName__VariableOrFunction But It Is Not Recommended"
   ]
  },
  {
   "cell_type": "code",
   "execution_count": 12,
   "metadata": {},
   "outputs": [
    {
     "name": "stdout",
     "output_type": "stream",
     "text": [
      "25\n",
      "Harsh Prasad\n",
      "Harsh Prasad 25\n",
      "CSE\n",
      "{'_Student__name': 'Harsh Prasad', 'rollNumber': 25}\n",
      "{'_Student__name': 'Chetan Singh', 'rollNumber': 12}\n"
     ]
    }
   ],
   "source": [
    "from datetime import date\n",
    "class Student:\n",
    "  __branch = \"CSE\"\n",
    "  def __init__(self, name, rollNumber):\n",
    "    self.__name = name\n",
    "    self.rollNumber = rollNumber\n",
    "\n",
    "  def __printDetails(self):\n",
    "    print(self.__name, self.rollNumber)\n",
    "\n",
    "s1 = Student(\"Harsh Prasad\", 25)\n",
    "s2 = Student(\"Chetan Singh\", 12)\n",
    "print(s1.rollNumber)\n",
    "print(s1._Student__name)\n",
    "s1._Student__printDetails()\n",
    "print(Student._Student__branch)\n",
    "print(s1.__dict__)\n",
    "print(s2.__dict__)"
   ]
  }
 ],
 "metadata": {
  "kernelspec": {
   "display_name": "Python 3.9.13 64-bit",
   "language": "python",
   "name": "python3"
  },
  "language_info": {
   "codemirror_mode": {
    "name": "ipython",
    "version": 3
   },
   "file_extension": ".py",
   "mimetype": "text/x-python",
   "name": "python",
   "nbconvert_exporter": "python",
   "pygments_lexer": "ipython3",
   "version": "3.9.13"
  },
  "orig_nbformat": 4,
  "vscode": {
   "interpreter": {
    "hash": "b0fa6594d8f4cbf19f97940f81e996739fb7646882a419484c72d19e05852a7e"
   }
  }
 },
 "nbformat": 4,
 "nbformat_minor": 2
}
