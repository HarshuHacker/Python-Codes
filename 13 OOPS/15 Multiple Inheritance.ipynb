{
 "cells": [
  {
   "cell_type": "markdown",
   "metadata": {},
   "source": [
    "The First Parent Class In The Child Class's Argument Is Called FIrst And Then The Second"
   ]
  },
  {
   "cell_type": "code",
   "execution_count": 7,
   "metadata": {},
   "outputs": [
    {
     "name": "stdout",
     "output_type": "stream",
     "text": [
      "Child Class\n",
      "Mother Class\n"
     ]
    }
   ],
   "source": [
    "class Father:\n",
    "\n",
    "  def __init__(self):\n",
    "    self.name = \"Harsh\"\n",
    "\n",
    "  @staticmethod\n",
    "  def print():\n",
    "    print(\"Father Class\")\n",
    "\n",
    "class Mother:\n",
    "\n",
    "  def __init__(self):\n",
    "    self.name = \"Unknown\"\n",
    "\n",
    "  @staticmethod\n",
    "  def print():\n",
    "    print(\"Mother Class\")\n",
    "\n",
    "class Child(Mother, Father):\n",
    "  @staticmethod\n",
    "  def printChild():\n",
    "    print(\"Child Class\")\n",
    "\n",
    "c1 = Child()\n",
    "c1.printChild()\n",
    "c1.print()"
   ]
  }
 ],
 "metadata": {
  "kernelspec": {
   "display_name": "Python 3.9.13 64-bit",
   "language": "python",
   "name": "python3"
  },
  "language_info": {
   "codemirror_mode": {
    "name": "ipython",
    "version": 3
   },
   "file_extension": ".py",
   "mimetype": "text/x-python",
   "name": "python",
   "nbconvert_exporter": "python",
   "pygments_lexer": "ipython3",
   "version": "3.9.13"
  },
  "orig_nbformat": 4,
  "vscode": {
   "interpreter": {
    "hash": "b0fa6594d8f4cbf19f97940f81e996739fb7646882a419484c72d19e05852a7e"
   }
  }
 },
 "nbformat": 4,
 "nbformat_minor": 2
}
