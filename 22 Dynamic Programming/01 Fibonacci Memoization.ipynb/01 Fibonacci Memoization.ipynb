{
 "cells": [
  {
   "cell_type": "markdown",
   "metadata": {},
   "source": [
    "Time : O(2^n) Space : O(n)"
   ]
  },
  {
   "cell_type": "code",
   "execution_count": 6,
   "metadata": {},
   "outputs": [],
   "source": [
    "def Fibonacci(n):\n",
    "  if(n == 0 or n == 1):\n",
    "    return n\n",
    "  return Fibonacci(n - 1) + Fibonacci(n - 2)"
   ]
  },
  {
   "cell_type": "code",
   "execution_count": null,
   "metadata": {},
   "outputs": [],
   "source": [
    "Fibonacci(50)"
   ]
  },
  {
   "cell_type": "markdown",
   "metadata": {},
   "source": [
    "Time : O(n) Space : O(2n)"
   ]
  },
  {
   "cell_type": "code",
   "execution_count": null,
   "metadata": {},
   "outputs": [],
   "source": [
    "def FibonacciUsingDP(n, dp):\n",
    "  if(n == 0 or n == 1):\n",
    "    return n\n",
    "  if(dp[n - 1] == -1):\n",
    "    ans1 = FibonacciUsingDP(n - 1, dp)\n",
    "    dp[n - 1] = ans1\n",
    "  else:\n",
    "    ans1 = dp[n - 1]\n",
    "  if(dp[n - 2] == -1):\n",
    "    ans2 = FibonacciUsingDP(n - 2, dp)\n",
    "    dp[n - 2] = ans2\n",
    "  else:\n",
    "    ans2 = dp[n - 2]\n",
    "  return ans1 + ans2"
   ]
  },
  {
   "cell_type": "code",
   "execution_count": 13,
   "metadata": {},
   "outputs": [
    {
     "data": {
      "text/plain": [
       "518408033284720218183254536552037385968869923410570504549274236877038850495126115808187896285250028313327603630303179669844971800815530215555651935158713441008114423969413832764219989448039336685133031383036590352674048200025704591105440468080544120305383516121457396311045054186685041215601781687235925676498404110495970317870157245351218329842295410313032129701565881836550779664515831518169892896678658444205718704166122470067841303910332506488888371660443953209378769225219684920713054038777972751924754795670237429464367550784451377575006466283520643695947165170014689197902034669081546704016254130925"
      ]
     },
     "execution_count": 13,
     "metadata": {},
     "output_type": "execute_result"
    }
   ],
   "source": [
    "n = 2900\n",
    "dp = [-1 for i in range(n)]\n",
    "FibonacciUsingDP(n, dp)"
   ]
  },
  {
   "cell_type": "markdown",
   "metadata": {},
   "source": [
    "Time : O(n) Space : O(2n)"
   ]
  },
  {
   "cell_type": "code",
   "execution_count": 23,
   "metadata": {},
   "outputs": [],
   "source": [
    "def FibonacciIterativeUsingDP(n):\n",
    "  dp = [-1 for i in range(n + 1)]\n",
    "  dp[0] = 0\n",
    "  dp[1] = 1\n",
    "  for i in range(2, n + 1):\n",
    "    dp[i] = dp[i - 1] + dp[i - 2]\n",
    "  return dp[n]"
   ]
  },
  {
   "cell_type": "code",
   "execution_count": 24,
   "metadata": {},
   "outputs": [
    {
     "data": {
      "text/plain": [
       "13"
      ]
     },
     "execution_count": 24,
     "metadata": {},
     "output_type": "execute_result"
    }
   ],
   "source": [
    "n = 7\n",
    "FibonacciIterativeUsingDP(n)"
   ]
  }
 ],
 "metadata": {
  "kernelspec": {
   "display_name": "Python 3.9.13 64-bit",
   "language": "python",
   "name": "python3"
  },
  "language_info": {
   "codemirror_mode": {
    "name": "ipython",
    "version": 3
   },
   "file_extension": ".py",
   "mimetype": "text/x-python",
   "name": "python",
   "nbconvert_exporter": "python",
   "pygments_lexer": "ipython3",
   "version": "3.9.13"
  },
  "orig_nbformat": 4,
  "vscode": {
   "interpreter": {
    "hash": "b0fa6594d8f4cbf19f97940f81e996739fb7646882a419484c72d19e05852a7e"
   }
  }
 },
 "nbformat": 4,
 "nbformat_minor": 2
}
