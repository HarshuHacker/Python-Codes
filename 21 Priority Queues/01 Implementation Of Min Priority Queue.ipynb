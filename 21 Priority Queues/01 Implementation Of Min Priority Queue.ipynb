{
 "cells": [
  {
   "cell_type": "code",
   "execution_count": 10,
   "metadata": {},
   "outputs": [],
   "source": [
    "class PriorityQueueNode:\n",
    "  def __init__(self, value, priority):\n",
    "    self.value = value\n",
    "    self.priority = priority"
   ]
  },
  {
   "cell_type": "code",
   "execution_count": 11,
   "metadata": {},
   "outputs": [],
   "source": [
    "class MinPriorityQueue:\n",
    "  def __init__(self):\n",
    "    self.pq = []\n",
    "\n",
    "  def getSize(self):\n",
    "    return len(self.pq)\n",
    "\n",
    "  def isEmpty(self):\n",
    "    return self.getSize() == 0\n",
    "\n",
    "  def getMin(self):\n",
    "    if(self.isEmpty()):\n",
    "      return \"The Priority Queue Is Empty\"\n",
    "    return self.pq[0].value\n",
    "\n",
    "  def upHeapify(self):\n",
    "    childIndex = self.getSize() - 1\n",
    "    while childIndex > 0:\n",
    "      parentIndex = (childIndex - 1) // 2\n",
    "      if(self.pq[parentIndex].priority > self.pq[childIndex].priority):\n",
    "        self.pq[parentIndex], self.pq[childIndex] = self.pq[childIndex], self.pq[parentIndex]\n",
    "        childIndex = parentIndex\n",
    "      else:\n",
    "        break\n",
    "\n",
    "  def insert(self, value, priority):\n",
    "    node = PriorityQueueNode(value, priority)\n",
    "    self.pq.append(node)\n",
    "    self.upHeapify()\n",
    "\n",
    "  def downHeapify(self):\n",
    "    parentIndex = 0\n",
    "    leftChildIndex = 1\n",
    "    rightChildIndex = 2\n",
    "    while leftChildIndex < self.getSize():\n",
    "      minIndex = parentIndex\n",
    "      if(self.pq[minIndex].priority > self.pq[leftChildIndex].priority):\n",
    "        minIndex = leftChildIndex\n",
    "      if(rightChildIndex < self.getSize() and self.pq[minIndex].priority > self.pq[rightChildIndex].priority):\n",
    "        minIndex = rightChildIndex\n",
    "      if(minIndex == parentIndex):\n",
    "        return\n",
    "      self.pq[parentIndex], self.pq[minIndex] = self.pq[minIndex], self.pq[parentIndex]\n",
    "      parentIndex = minIndex\n",
    "      leftChildIndex = (2 * parentIndex) + 1\n",
    "      rightChildIndex = (2 * parentIndex) + 2\n",
    "      \n",
    "\n",
    "  def removeMin(self):\n",
    "    lastNodeIndex = self.getSize() - 1\n",
    "    self.pq[lastNodeIndex], self.pq[0] = self.pq[0], self.pq[lastNodeIndex]\n",
    "    data = self.pq.pop()\n",
    "    self.downHeapify()\n",
    "    return data.value"
   ]
  },
  {
   "cell_type": "code",
   "execution_count": 12,
   "metadata": {},
   "outputs": [],
   "source": [
    "class MaxPriorityQueue:\n",
    "    def __init__(self):\n",
    "    \tself.pq = []\n",
    "    \n",
    "    def isEmpty(self):\n",
    "        return self.getSize() == 0\n",
    "    \n",
    "    def getSize(self):\n",
    "        return len(self.pq)\n",
    "\n",
    "    def getMax(self):\n",
    "        if(self.isEmpty()):\n",
    "        \treturn None\n",
    "        return self.pq[0].value\n",
    "    \n",
    "    def upHeapify(self):\n",
    "        childIndex = self.getSize() - 1\n",
    "        while childIndex > 0:\n",
    "            parentIndex = (childIndex - 1) // 2\n",
    "            if(self.pq[parentIndex].priority < self.pq[childIndex].priority):\n",
    "                self.pq[parentIndex], self.pq[childIndex] = self.pq[childIndex], self.pq[parentIndex]\n",
    "                childIndex = parentIndex\n",
    "            else:\n",
    "                break\n",
    "      \n",
    "    def insert(self,value,priority):\n",
    "        node = PriorityQueueNode(value, priority)\n",
    "        self.pq.append(node)\n",
    "        self.upHeapify()\n",
    "        \n",
    "    def downHeapify(self):\n",
    "        parentIndex = 0\n",
    "        leftChildIndex = 1\n",
    "        rightChildIndex = 2\n",
    "        while leftChildIndex < self.getSize():\n",
    "            maxIndex = parentIndex\n",
    "            if(self.pq[maxIndex].priority < self.pq[leftChildIndex].priority):\n",
    "            \tmaxIndex = leftChildIndex\n",
    "            if(rightChildIndex < self.getSize() and self.pq[maxIndex].priority < self.pq[rightChildIndex].priority):\n",
    "            \tmaxIndex = rightChildIndex\n",
    "            if(maxIndex == parentIndex):\n",
    "            \treturn\n",
    "            self.pq[parentIndex], self.pq[maxIndex] = self.pq[maxIndex], self.pq[parentIndex]\n",
    "            parentIndex = maxIndex\n",
    "            leftChildIndex = (2 * parentIndex) + 1\n",
    "            rightChildIndex = (2 * parentIndex) + 2\n",
    "        \n",
    "    def removeMax(self):\n",
    "        lastNodeIndex = self.getSize() - 1\n",
    "        self.pq[lastNodeIndex], self.pq[0] = self.pq[0], self.pq[lastNodeIndex]\n",
    "        data = self.pq.pop()\n",
    "        self.downHeapify()\n",
    "        return data.value"
   ]
  },
  {
   "cell_type": "code",
   "execution_count": 17,
   "metadata": {},
   "outputs": [
    {
     "name": "stdout",
     "output_type": "stream",
     "text": [
      "D\n",
      "C\n",
      "A\n",
      "B\n",
      "\n",
      "B\n",
      "A\n",
      "C\n",
      "D\n"
     ]
    }
   ],
   "source": [
    "pq = MinPriorityQueue()\n",
    "pq.insert(\"A\", 10)\n",
    "pq.insert(\"C\", 5)\n",
    "pq.insert(\"B\", 19)\n",
    "pq.insert(\"D\", 4)\n",
    "\n",
    "for i in range(4):\n",
    "  print(pq.removeMin())\n",
    "\n",
    "print()\n",
    "\n",
    "pq = MaxPriorityQueue()\n",
    "pq.insert(\"A\", 10)\n",
    "pq.insert(\"C\", 5)\n",
    "pq.insert(\"B\", 19)\n",
    "pq.insert(\"D\", 4)\n",
    "for i in range(4):\n",
    "  print(pq.removeMax())"
   ]
  },
  {
   "cell_type": "code",
   "execution_count": 34,
   "metadata": {},
   "outputs": [
    {
     "name": "stdout",
     "output_type": "stream",
     "text": [
      "Kth Smallest Element is: 10\n"
     ]
    }
   ],
   "source": [
    "# Kth Smallest Element \n",
    "\n",
    "import heapq\n",
    "\n",
    "def kthSmallest(arr, N, K):\n",
    "\tpq = []\n",
    "  \n",
    "\tfor i in range(K):\n",
    "\t\theapq.heappush(pq, arr[i])\n",
    "\t\theapq.heapify(pq)\n",
    "\n",
    "\tfor i in range(K, N):\n",
    "\t\tif arr[i] > pq[0]:\n",
    "\t\t\theapq.heappop(pq)\n",
    "\t\t\theapq.heappush(pq, arr[i])\n",
    "\t\t\theapq.heapify(pq)\n",
    "\treturn pq[0]\n",
    "\n",
    "if __name__ == \"__main__\":\n",
    "\tN = 10\n",
    "\tarr = [10, 5, 4, 3, 48, 6, 2, 33, 53, 10]\n",
    "\tK = 4\n",
    "\n",
    "\t# 2 3 4 5 6 10 10 33 48 53\n",
    "\n",
    "\tprint(\"Kth Smallest Element is:\", kthSmallest(arr, N, K))\n"
   ]
  },
  {
   "cell_type": "code",
   "execution_count": 29,
   "metadata": {},
   "outputs": [
    {
     "name": "stdout",
     "output_type": "stream",
     "text": [
      "same 12 34\n",
      "chintu 90 42\n",
      "harsh 32 90\n"
     ]
    }
   ],
   "source": [
    "from mimetypes import init\n",
    "\n",
    "\n",
    "class student:\n",
    "  def __init__(self,name,wt,ht):\n",
    "    self.name=name\n",
    "    self.wt=wt\n",
    "    self.ht=ht\n",
    "  def __str__(self):\n",
    "    return self.name+\" \"+str(self.wt)+\" \"+str(self.ht)\n",
    "\n",
    "\n",
    "def cmp2(a):\n",
    "  return a.wt\n",
    "\n",
    "stud=[student(\"same\",12,34),student(\"harsh\",32,90),student(\"chintu\",90,42)]\n",
    "# stud.sort(key=cmp2,reverse=True)\n",
    "stud.sort(key=lambda x:x.ht)\n",
    "\n",
    "for i in range(len(stud)):\n",
    "  print(stud[i])"
   ]
  }
 ],
 "metadata": {
  "kernelspec": {
   "display_name": "Python 3.9.6 64-bit",
   "language": "python",
   "name": "python3"
  },
  "language_info": {
   "codemirror_mode": {
    "name": "ipython",
    "version": 3
   },
   "file_extension": ".py",
   "mimetype": "text/x-python",
   "name": "python",
   "nbconvert_exporter": "python",
   "pygments_lexer": "ipython3",
   "version": "3.9.6"
  },
  "orig_nbformat": 4,
  "vscode": {
   "interpreter": {
    "hash": "31f2aee4e71d21fbe5cf8b01ff0e069b9275f58929596ceb00d14d90e3e16cd6"
   }
  }
 },
 "nbformat": 4,
 "nbformat_minor": 2
}
