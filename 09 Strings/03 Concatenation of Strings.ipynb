{
 "cells": [
  {
   "cell_type": "code",
   "execution_count": 12,
   "metadata": {},
   "outputs": [
    {
     "name": "stdout",
     "output_type": "stream",
     "text": [
      "4339290800 red\n",
      "4375947440 redblue\n"
     ]
    }
   ],
   "source": [
    "a = \"red\"\n",
    "print(id(a), a)\n",
    "a += \"blue\"\n",
    "print(id(a), a)"
   ]
  },
  {
   "cell_type": "code",
   "execution_count": 13,
   "metadata": {},
   "outputs": [
    {
     "name": "stdout",
     "output_type": "stream",
     "text": [
      "4339290800 red\n",
      "4375945648 redredred\n"
     ]
    }
   ],
   "source": [
    "a = \"red\"\n",
    "print(id(a), a)\n",
    "a = a*3\n",
    "print(id(a), a)"
   ]
  },
  {
   "cell_type": "code",
   "execution_count": 14,
   "metadata": {},
   "outputs": [
    {
     "name": "stdout",
     "output_type": "stream",
     "text": [
      "redredred3\n"
     ]
    }
   ],
   "source": [
    "# a += 3 This Will Throw An Error Because We Cannot Add Integer With String. For Adding We Need To Convert Integer Into An String And Then Concatenate\n",
    "a += \"3\"\n",
    "print(a)"
   ]
  }
 ],
 "metadata": {
  "interpreter": {
   "hash": "b0fa6594d8f4cbf19f97940f81e996739fb7646882a419484c72d19e05852a7e"
  },
  "kernelspec": {
   "display_name": "Python 3.9.13 64-bit",
   "language": "python",
   "name": "python3"
  },
  "language_info": {
   "codemirror_mode": {
    "name": "ipython",
    "version": 3
   },
   "file_extension": ".py",
   "mimetype": "text/x-python",
   "name": "python",
   "nbconvert_exporter": "python",
   "pygments_lexer": "ipython3",
   "version": "3.9.13"
  },
  "orig_nbformat": 4
 },
 "nbformat": 4,
 "nbformat_minor": 2
}
