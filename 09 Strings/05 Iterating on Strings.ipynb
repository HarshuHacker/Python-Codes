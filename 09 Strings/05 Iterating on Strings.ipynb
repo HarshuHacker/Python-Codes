{
 "cells": [
  {
   "cell_type": "code",
   "execution_count": 4,
   "metadata": {},
   "outputs": [
    {
     "name": "stdout",
     "output_type": "stream",
     "text": [
      "3\n"
     ]
    }
   ],
   "source": [
    "string = \"Hello World\"\n",
    "count = 0\n",
    "for letter in string:\n",
    "  if(letter == \"l\"):\n",
    "    count += 1\n",
    "print(count)"
   ]
  },
  {
   "cell_type": "code",
   "execution_count": 5,
   "metadata": {},
   "outputs": [
    {
     "name": "stdout",
     "output_type": "stream",
     "text": [
      "3\n"
     ]
    }
   ],
   "source": [
    "string = \"Hello World\"\n",
    "count = 0\n",
    "for letter in range(len(string)):\n",
    "  if(string[letter] == \"l\"):\n",
    "    count += 1\n",
    "print(count)"
   ]
  },
  {
   "cell_type": "markdown",
   "metadata": {},
   "source": [
    "In And NotIn SubString"
   ]
  },
  {
   "cell_type": "code",
   "execution_count": 9,
   "metadata": {},
   "outputs": [
    {
     "name": "stdout",
     "output_type": "stream",
     "text": [
      "Yes Its A SubString :)\n",
      "No Its Not A SubString :)\n"
     ]
    }
   ],
   "source": [
    "string = \"Harsh\"\n",
    "\n",
    "if \"ars\" in string:\n",
    "  print(\"Yes Its A SubString :)\")\n",
    "else:\n",
    "  print(\"No Its Not A SubString :)\")\n",
    "\n",
    "if \"arh\" in string:\n",
    "  print(\"Yes Its A SubString :)\")\n",
    "else:\n",
    "  print(\"No Its Not A SubString :)\")"
   ]
  }
 ],
 "metadata": {
  "interpreter": {
   "hash": "b0fa6594d8f4cbf19f97940f81e996739fb7646882a419484c72d19e05852a7e"
  },
  "kernelspec": {
   "display_name": "Python 3.9.13 64-bit",
   "language": "python",
   "name": "python3"
  },
  "language_info": {
   "codemirror_mode": {
    "name": "ipython",
    "version": 3
   },
   "file_extension": ".py",
   "mimetype": "text/x-python",
   "name": "python",
   "nbconvert_exporter": "python",
   "pygments_lexer": "ipython3",
   "version": "3.9.13"
  },
  "orig_nbformat": 4
 },
 "nbformat": 4,
 "nbformat_minor": 2
}
