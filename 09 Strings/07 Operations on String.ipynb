{
 "cells": [
  {
   "cell_type": "markdown",
   "metadata": {},
   "source": [
    "Split"
   ]
  },
  {
   "cell_type": "code",
   "execution_count": 10,
   "metadata": {},
   "outputs": [
    {
     "name": "stdout",
     "output_type": "stream",
     "text": [
      "['My', 'Name', 'Is:Harsh']\n"
     ]
    }
   ],
   "source": [
    "str = \"My:Name:Is:Harsh\"\n",
    "li = str.split(\":\", 2) # Here 2 Means That It Will Split The String Till Two : And Its Optional\n",
    "print(li)"
   ]
  },
  {
   "cell_type": "markdown",
   "metadata": {},
   "source": [
    "Replace"
   ]
  },
  {
   "cell_type": "code",
   "execution_count": 16,
   "metadata": {},
   "outputs": [
    {
     "name": "stdout",
     "output_type": "stream",
     "text": [
      "My Name Is Harsh\n",
      "My Name Is Harsh Prasad\n",
      "My Name Is Harsh Harsh Harsh Harsh\n",
      "My Name Is Harshu Harshu Harsh Harsh\n"
     ]
    }
   ],
   "source": [
    "str1 = \"My Name Is Harsh\"\n",
    "str2 = str1.replace(\"Harsh\", \"Harsh Prasad\")\n",
    "print(str1)\n",
    "print(str2)\n",
    "str3 = \"My Name Is Harsh Harsh Harsh Harsh\"\n",
    "str4 = str3.replace(\"Harsh\", \"Harshu\", 2) #Here 2 Denotes The Number Of String(Harsh) To Replace With New String(Harshu)\n",
    "print(str3)\n",
    "print(str4)\n"
   ]
  },
  {
   "cell_type": "markdown",
   "metadata": {},
   "source": [
    "Find"
   ]
  },
  {
   "cell_type": "code",
   "execution_count": 24,
   "metadata": {},
   "outputs": [
    {
     "name": "stdout",
     "output_type": "stream",
     "text": [
      "11\n",
      "17\n",
      "23\n"
     ]
    }
   ],
   "source": [
    "str1 = \"My Name Is Harsh Harsh Harsh\"\n",
    "index = str1.find(\"Harsh\")\n",
    "print(index)\n",
    "index = str1.find(\"Harsh\", 16, 23) #Here 16 Is The Start Index And 23 Is The End Index. The Searching Will Be Done In Between These Two Index.\n",
    "print(index)\n",
    "index = str1.find(\"Harsh\", 21, 30)\n",
    "print(index)"
   ]
  },
  {
   "cell_type": "markdown",
   "metadata": {},
   "source": [
    "Lower And Upper"
   ]
  },
  {
   "cell_type": "code",
   "execution_count": 25,
   "metadata": {},
   "outputs": [
    {
     "name": "stdout",
     "output_type": "stream",
     "text": [
      "my name is harsh prasad\n",
      "MY NAME IS HARSH PRASAD\n"
     ]
    }
   ],
   "source": [
    "string = \"My Name Is Harsh Prasad\"\n",
    "str1 = string.lower()\n",
    "str2 = string.upper()\n",
    "print(str1)\n",
    "print(str2)"
   ]
  },
  {
   "cell_type": "markdown",
   "metadata": {},
   "source": [
    "StartsWith"
   ]
  },
  {
   "cell_type": "code",
   "execution_count": 35,
   "metadata": {},
   "outputs": [
    {
     "name": "stdout",
     "output_type": "stream",
     "text": [
      "True\n",
      "True\n",
      "True\n",
      "False\n"
     ]
    }
   ],
   "source": [
    "string = \"My Name Is Harsh Prasad\"\n",
    "ans1 = string.startswith(\"My Na\")\n",
    "print(ans1)\n",
    "ans2 = string.startswith(\"Harsh\", 11)\n",
    "print(ans2)\n",
    "ans3 = string.startswith(\"Harsh\", 11, 20)\n",
    "print(ans3)\n",
    "ans4 = string.startswith(\"Prasad\", 11, 20)\n",
    "print(ans4)"
   ]
  }
 ],
 "metadata": {
  "interpreter": {
   "hash": "b0fa6594d8f4cbf19f97940f81e996739fb7646882a419484c72d19e05852a7e"
  },
  "kernelspec": {
   "display_name": "Python 3.9.13 64-bit",
   "language": "python",
   "name": "python3"
  },
  "language_info": {
   "codemirror_mode": {
    "name": "ipython",
    "version": 3
   },
   "file_extension": ".py",
   "mimetype": "text/x-python",
   "name": "python",
   "nbconvert_exporter": "python",
   "pygments_lexer": "ipython3",
   "version": "3.9.13"
  },
  "orig_nbformat": 4
 },
 "nbformat": 4,
 "nbformat_minor": 2
}
