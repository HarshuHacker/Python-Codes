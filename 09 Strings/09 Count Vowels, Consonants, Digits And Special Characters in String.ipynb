{
 "cells": [
  {
   "cell_type": "markdown",
   "metadata": {},
   "source": [
    " Count Vowels, Consonants, Digits And Special Characters in String "
   ]
  },
  {
   "cell_type": "code",
   "execution_count": 4,
   "metadata": {},
   "outputs": [
    {
     "name": "stdout",
     "output_type": "stream",
     "text": [
      "(23, 38, 12, 24)\n"
     ]
    }
   ],
   "source": [
    "def countInString(userInput):\n",
    "  v, c, d, s = 0, 0, 0, 0\n",
    "  for char in userInput:\n",
    "    if((char >= \"A\" and char <= \"Z\") or (char >= \"a\" and char <= \"z\")):\n",
    "      char = char.lower()\n",
    "      if(char == \"a\" or char == \"e\" or char == \"i\" or char == \"o\" or char == \"u\"):\n",
    "        v += 1\n",
    "      else:\n",
    "        c += 1\n",
    "    elif(char >= \"0\" and char <= \"9\"):\n",
    "      d += 1\n",
    "    else:\n",
    "      s += 1\n",
    "  return v, c, d, s\n",
    "\n",
    "# userInput = input()\n",
    "userInput = \"My Name Is Harshu@Hacker. I Am From %Jaigaon. I Study In #CU. My Contact Number Is +91-8556087430\"\n",
    "print(countInString(userInput))"
   ]
  }
 ],
 "metadata": {
  "interpreter": {
   "hash": "b0fa6594d8f4cbf19f97940f81e996739fb7646882a419484c72d19e05852a7e"
  },
  "kernelspec": {
   "display_name": "Python 3.9.13 64-bit",
   "language": "python",
   "name": "python3"
  },
  "language_info": {
   "codemirror_mode": {
    "name": "ipython",
    "version": 3
   },
   "file_extension": ".py",
   "mimetype": "text/x-python",
   "name": "python",
   "nbconvert_exporter": "python",
   "pygments_lexer": "ipython3",
   "version": "3.9.13"
  },
  "orig_nbformat": 4
 },
 "nbformat": 4,
 "nbformat_minor": 2
}
