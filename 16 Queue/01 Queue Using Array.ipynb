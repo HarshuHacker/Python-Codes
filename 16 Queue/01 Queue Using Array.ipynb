{
 "cells": [
  {
   "cell_type": "code",
   "execution_count": 4,
   "metadata": {},
   "outputs": [
    {
     "name": "stdout",
     "output_type": "stream",
     "text": [
      "1\n",
      "2\n",
      "4\n",
      "False\n"
     ]
    }
   ],
   "source": [
    "class Queue:\n",
    "  def __init__(self):\n",
    "    self.__arr = []\n",
    "    self.__front = 0\n",
    "    self.__count = 0\n",
    "\n",
    "  def enqueue(self, data):\n",
    "    self.__arr.append(data)\n",
    "    self.__count += 1\n",
    "\n",
    "  def dequeue(self):\n",
    "    curr = self.__arr[self.__front]\n",
    "    self.__front += 1\n",
    "    self.__count -= 1\n",
    "    return curr\n",
    "\n",
    "  def front(self):\n",
    "    return self.__arr[self.__front]\n",
    "\n",
    "  def size(self):\n",
    "    return self.__count\n",
    "\n",
    "  def isEmpty(self):\n",
    "    return self.__count == 0\n",
    "\n",
    "q1 = Queue()\n",
    "q1.enqueue(1)\n",
    "q1.enqueue(2)\n",
    "q1.enqueue(3)\n",
    "q1.enqueue(4)\n",
    "q1.enqueue(5)\n",
    "print(q1.dequeue())\n",
    "print(q1.front())\n",
    "print(q1.size())\n",
    "print(q1.isEmpty())"
   ]
  }
 ],
 "metadata": {
  "kernelspec": {
   "display_name": "Python 3.9.13 64-bit",
   "language": "python",
   "name": "python3"
  },
  "language_info": {
   "codemirror_mode": {
    "name": "ipython",
    "version": 3
   },
   "file_extension": ".py",
   "mimetype": "text/x-python",
   "name": "python",
   "nbconvert_exporter": "python",
   "pygments_lexer": "ipython3",
   "version": "3.9.13"
  },
  "orig_nbformat": 4,
  "vscode": {
   "interpreter": {
    "hash": "b0fa6594d8f4cbf19f97940f81e996739fb7646882a419484c72d19e05852a7e"
   }
  }
 },
 "nbformat": 4,
 "nbformat_minor": 2
}
