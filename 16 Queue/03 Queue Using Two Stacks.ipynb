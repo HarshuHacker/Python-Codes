{
 "cells": [
  {
   "cell_type": "code",
   "execution_count": 5,
   "metadata": {},
   "outputs": [
    {
     "name": "stdout",
     "output_type": "stream",
     "text": [
      "5\n",
      "False\n",
      "1\n",
      "2\n",
      "3\n",
      "3\n"
     ]
    }
   ],
   "source": [
    "class queue:\n",
    "  def __init__(self):\n",
    "    self.__arr1 = []\n",
    "    self.__arr2 = []\n",
    "\n",
    "  def push(self, data):\n",
    "    while(len(self.__arr1) != 0):\n",
    "      self.__arr2.append(self.__arr1.pop())\n",
    "    self.__arr1.append(data)\n",
    "    while(len(self.__arr2) != 0):\n",
    "      self.__arr1.append(self.__arr2.pop())\n",
    "\n",
    "  def pop(self):\n",
    "    if(self.isEmpty()):\n",
    "      return -1\n",
    "    return self.__arr1.pop()\n",
    "\n",
    "  def top(self):\n",
    "    if(self.isEmpty()):\n",
    "      return -1\n",
    "    return self.__arr1[self.size() - 1]\n",
    "\n",
    "  def size(self):\n",
    "    return len(self.__arr1)\n",
    "\n",
    "  def isEmpty(self):\n",
    "    return self.size() == 0\n",
    "\n",
    "q1 = queue()\n",
    "q1.push(1)\n",
    "q1.push(2)\n",
    "q1.push(3)\n",
    "q1.push(4)\n",
    "q1.push(5)\n",
    "print(q1.size())\n",
    "print(q1.isEmpty())\n",
    "print(q1.pop())\n",
    "print(q1.pop())\n",
    "print(q1.top())\n",
    "print(q1.top())"
   ]
  }
 ],
 "metadata": {
  "kernelspec": {
   "display_name": "Python 3.9.13 64-bit",
   "language": "python",
   "name": "python3"
  },
  "language_info": {
   "codemirror_mode": {
    "name": "ipython",
    "version": 3
   },
   "file_extension": ".py",
   "mimetype": "text/x-python",
   "name": "python",
   "nbconvert_exporter": "python",
   "pygments_lexer": "ipython3",
   "version": "3.9.13"
  },
  "orig_nbformat": 4,
  "vscode": {
   "interpreter": {
    "hash": "b0fa6594d8f4cbf19f97940f81e996739fb7646882a419484c72d19e05852a7e"
   }
  }
 },
 "nbformat": 4,
 "nbformat_minor": 2
}
