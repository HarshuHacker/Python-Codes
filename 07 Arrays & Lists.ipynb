{
 "cells": [
  {
   "cell_type": "markdown",
   "metadata": {},
   "source": [
    "Creating A List"
   ]
  },
  {
   "cell_type": "code",
   "execution_count": 41,
   "metadata": {},
   "outputs": [
    {
     "name": "stdout",
     "output_type": "stream",
     "text": [
      "[]\n",
      "[1, 2, 'Harsh', 2.5]\n",
      "Harsh\n",
      "[1, 11, 'Harsh', 2.5]\n"
     ]
    }
   ],
   "source": [
    "li1 = []\n",
    "li2 = [1, 2, \"Harsh\", 2.5]\n",
    "print(li1)\n",
    "print(li2)\n",
    "print(li2[2])\n",
    "# print(li2[4]) This Will Throw Error Because The List Index Is Out Of Range. Here The Range Is Till 3\n",
    "li2[1] = 11\n",
    "print(li2)"
   ]
  },
  {
   "cell_type": "markdown",
   "metadata": {},
   "source": [
    "Slicing Of A List"
   ]
  },
  {
   "cell_type": "code",
   "execution_count": 42,
   "metadata": {},
   "outputs": [
    {
     "name": "stdout",
     "output_type": "stream",
     "text": [
      "[11, 'Harsh']\n",
      "[1, 11]\n",
      "[11, 'Harsh', 2.5]\n",
      "[1, 11, 'Harsh', 2.5]\n",
      "['Harsh', 2.5]\n"
     ]
    }
   ],
   "source": [
    "print(li2[1:3])\n",
    "print(li2[:2])\n",
    "print(li2[1:])\n",
    "print(li2[:])\n",
    "print(li2[2:10]) # It Will Print Till The Range Of The List And Not Till 10"
   ]
  },
  {
   "cell_type": "markdown",
   "metadata": {},
   "source": [
    "Insert And Append Element In A List"
   ]
  },
  {
   "cell_type": "code",
   "execution_count": 43,
   "metadata": {},
   "outputs": [
    {
     "name": "stdout",
     "output_type": "stream",
     "text": [
      "[1, 11, 'Harsh', 2.5, 'Ayush']\n",
      "[1, 11, 'Harsh', 2.5, 'Ayush', [11, 15]]\n",
      "[1, 11, 'Harsh', 2.5, 'Ayush', [11, 15], 11, 19]\n",
      "[1, 'Prasad', 11, 'Harsh', 2.5, 'Ayush', [11, 15], 11, 19]\n",
      "[1, 'Prasad', 11, 'Harsh', 2.5, 'Ayush', [11, 15], 11, 19, 'Web']\n"
     ]
    }
   ],
   "source": [
    "li2.append(\"Ayush\")\n",
    "print(li2)\n",
    "li2.append([11, 15])\n",
    "print(li2)\n",
    "li2.extend([11, 19])\n",
    "print(li2)\n",
    "li2.insert(1, \"Prasad\")\n",
    "print(li2)\n",
    "li2.insert(15, \"Web\") # If The Index Of The Element Is Greater Than The Range Than It Will Insert It At The Last\n",
    "print(li2)"
   ]
  },
  {
   "cell_type": "markdown",
   "metadata": {},
   "source": [
    "Removing Element From The List"
   ]
  },
  {
   "cell_type": "code",
   "execution_count": 44,
   "metadata": {},
   "outputs": [
    {
     "data": {
      "text/plain": [
       "2.5"
      ]
     },
     "execution_count": 44,
     "metadata": {},
     "output_type": "execute_result"
    }
   ],
   "source": [
    "li2.pop(4)"
   ]
  },
  {
   "cell_type": "code",
   "execution_count": 45,
   "metadata": {},
   "outputs": [
    {
     "data": {
      "text/plain": [
       "'Web'"
      ]
     },
     "execution_count": 45,
     "metadata": {},
     "output_type": "execute_result"
    }
   ],
   "source": [
    "li2.pop()"
   ]
  },
  {
   "cell_type": "code",
   "execution_count": 46,
   "metadata": {},
   "outputs": [
    {
     "data": {
      "text/plain": [
       "[1, 11, 'Harsh', 'Ayush', [11, 15], 11, 19]"
      ]
     },
     "execution_count": 46,
     "metadata": {},
     "output_type": "execute_result"
    }
   ],
   "source": [
    "li2.remove(\"Prasad\")\n",
    "li2"
   ]
  },
  {
   "cell_type": "code",
   "execution_count": 47,
   "metadata": {},
   "outputs": [
    {
     "data": {
      "text/plain": [
       "[1, 'Harsh', 'Ayush', [11, 15], 11, 19]"
      ]
     },
     "execution_count": 47,
     "metadata": {},
     "output_type": "execute_result"
    }
   ],
   "source": [
    "li2.remove(11) # If There Are Two Elements Then The Element Which Comes First Gets Removed\n",
    "li2"
   ]
  }
 ],
 "metadata": {
  "interpreter": {
   "hash": "b0fa6594d8f4cbf19f97940f81e996739fb7646882a419484c72d19e05852a7e"
  },
  "kernelspec": {
   "display_name": "Python 3.9.13 64-bit",
   "language": "python",
   "name": "python3"
  },
  "language_info": {
   "codemirror_mode": {
    "name": "ipython",
    "version": 3
   },
   "file_extension": ".py",
   "mimetype": "text/x-python",
   "name": "python",
   "nbconvert_exporter": "python",
   "pygments_lexer": "ipython3",
   "version": "3.9.13"
  },
  "orig_nbformat": 4
 },
 "nbformat": 4,
 "nbformat_minor": 2
}
