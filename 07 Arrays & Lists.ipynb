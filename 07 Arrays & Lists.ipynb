{
 "cells": [
  {
   "cell_type": "markdown",
   "metadata": {},
   "source": [
    "Creating A List"
   ]
  },
  {
   "cell_type": "code",
   "execution_count": 6,
   "metadata": {},
   "outputs": [
    {
     "name": "stdout",
     "output_type": "stream",
     "text": [
      "[]\n",
      "[1, 2, 'Harsh', 2.5]\n",
      "Harsh\n",
      "[1, 11, 'Harsh', 2.5]\n"
     ]
    }
   ],
   "source": [
    "li1 = []\n",
    "li2 = [1, 2, \"Harsh\", 2.5]\n",
    "print(li1)\n",
    "print(li2)\n",
    "print(li2[2])\n",
    "# print(li2[4]) This Will Throw Error Because The List Index Is Out Of Range. Here The Range Is Till 3\n",
    "li2[1] = 11\n",
    "print(li2)"
   ]
  },
  {
   "cell_type": "markdown",
   "metadata": {},
   "source": [
    "Slicing Of A List"
   ]
  },
  {
   "cell_type": "code",
   "execution_count": 13,
   "metadata": {},
   "outputs": [
    {
     "name": "stdout",
     "output_type": "stream",
     "text": [
      "[11, 'Harsh']\n",
      "[1, 11]\n",
      "[11, 'Harsh', 2.5]\n",
      "[1, 11, 'Harsh', 2.5]\n",
      "['Harsh', 2.5]\n"
     ]
    }
   ],
   "source": [
    "print(li2[1:3])\n",
    "print(li2[:2])\n",
    "print(li2[1:])\n",
    "print(li2[:])\n",
    "print(li2[2:10]) # It Will Print Till The Range Of The List And Not Till 10"
   ]
  }
 ],
 "metadata": {
  "interpreter": {
   "hash": "b0fa6594d8f4cbf19f97940f81e996739fb7646882a419484c72d19e05852a7e"
  },
  "kernelspec": {
   "display_name": "Python 3.9.13 64-bit",
   "language": "python",
   "name": "python3"
  },
  "language_info": {
   "codemirror_mode": {
    "name": "ipython",
    "version": 3
   },
   "file_extension": ".py",
   "mimetype": "text/x-python",
   "name": "python",
   "nbconvert_exporter": "python",
   "pygments_lexer": "ipython3",
   "version": "3.9.13"
  },
  "orig_nbformat": 4
 },
 "nbformat": 4,
 "nbformat_minor": 2
}
