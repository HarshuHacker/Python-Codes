{
 "cells": [
  {
   "cell_type": "markdown",
   "metadata": {},
   "source": [
    "Creating A List"
   ]
  },
  {
   "cell_type": "code",
   "execution_count": 41,
   "metadata": {},
   "outputs": [
    {
     "name": "stdout",
     "output_type": "stream",
     "text": [
      "[]\n",
      "[1, 2, 'Harsh', 2.5]\n",
      "Harsh\n",
      "[1, 11, 'Harsh', 2.5]\n"
     ]
    }
   ],
   "source": [
    "li1 = []\n",
    "li2 = [1, 2, \"Harsh\", 2.5]\n",
    "print(li1)\n",
    "print(li2)\n",
    "print(li2[2])\n",
    "# print(li2[4]) This Will Throw Error Because The List Index Is Out Of Range. Here The Range Is Till 3\n",
    "li2[1] = 11\n",
    "print(li2)"
   ]
  },
  {
   "cell_type": "markdown",
   "metadata": {},
   "source": [
    "Slicing Of A List"
   ]
  },
  {
   "cell_type": "code",
   "execution_count": 42,
   "metadata": {},
   "outputs": [
    {
     "name": "stdout",
     "output_type": "stream",
     "text": [
      "[11, 'Harsh']\n",
      "[1, 11]\n",
      "[11, 'Harsh', 2.5]\n",
      "[1, 11, 'Harsh', 2.5]\n",
      "['Harsh', 2.5]\n"
     ]
    }
   ],
   "source": [
    "print(li2[1:3])\n",
    "print(li2[:2])\n",
    "print(li2[1:])\n",
    "print(li2[:])\n",
    "print(li2[2:10]) # It Will Print Till The Range Of The List And Not Till 10"
   ]
  },
  {
   "cell_type": "markdown",
   "metadata": {},
   "source": [
    "Insert And Append Element In A List"
   ]
  },
  {
   "cell_type": "code",
   "execution_count": 43,
   "metadata": {},
   "outputs": [
    {
     "name": "stdout",
     "output_type": "stream",
     "text": [
      "[1, 11, 'Harsh', 2.5, 'Ayush']\n",
      "[1, 11, 'Harsh', 2.5, 'Ayush', [11, 15]]\n",
      "[1, 11, 'Harsh', 2.5, 'Ayush', [11, 15], 11, 19]\n",
      "[1, 'Prasad', 11, 'Harsh', 2.5, 'Ayush', [11, 15], 11, 19]\n",
      "[1, 'Prasad', 11, 'Harsh', 2.5, 'Ayush', [11, 15], 11, 19, 'Web']\n"
     ]
    }
   ],
   "source": [
    "li2.append(\"Ayush\")\n",
    "print(li2)\n",
    "li2.append([11, 15])\n",
    "print(li2)\n",
    "li2.extend([11, 19])\n",
    "print(li2)\n",
    "li2.insert(1, \"Prasad\")\n",
    "print(li2)\n",
    "li2.insert(15, \"Web\") # If The Index Of The Element Is Greater Than The Range Than It Will Insert It At The Last\n",
    "print(li2)"
   ]
  },
  {
   "cell_type": "markdown",
   "metadata": {},
   "source": [
    "Removing Element From The List"
   ]
  },
  {
   "cell_type": "code",
   "execution_count": 44,
   "metadata": {},
   "outputs": [
    {
     "data": {
      "text/plain": [
       "2.5"
      ]
     },
     "execution_count": 44,
     "metadata": {},
     "output_type": "execute_result"
    }
   ],
   "source": [
    "li2.pop(4)"
   ]
  },
  {
   "cell_type": "code",
   "execution_count": 45,
   "metadata": {},
   "outputs": [
    {
     "data": {
      "text/plain": [
       "'Web'"
      ]
     },
     "execution_count": 45,
     "metadata": {},
     "output_type": "execute_result"
    }
   ],
   "source": [
    "li2.pop()"
   ]
  },
  {
   "cell_type": "code",
   "execution_count": 46,
   "metadata": {},
   "outputs": [
    {
     "data": {
      "text/plain": [
       "[1, 11, 'Harsh', 'Ayush', [11, 15], 11, 19]"
      ]
     },
     "execution_count": 46,
     "metadata": {},
     "output_type": "execute_result"
    }
   ],
   "source": [
    "li2.remove(\"Prasad\")\n",
    "li2"
   ]
  },
  {
   "cell_type": "code",
   "execution_count": 47,
   "metadata": {},
   "outputs": [
    {
     "data": {
      "text/plain": [
       "[1, 'Harsh', 'Ayush', [11, 15], 11, 19]"
      ]
     },
     "execution_count": 47,
     "metadata": {},
     "output_type": "execute_result"
    }
   ],
   "source": [
    "li2.remove(11) # If There Are Two Elements Then The Element Which Comes First Gets Removed\n",
    "li2"
   ]
  },
  {
   "cell_type": "markdown",
   "metadata": {},
   "source": [
    "Looping On A List"
   ]
  },
  {
   "cell_type": "code",
   "execution_count": 55,
   "metadata": {},
   "outputs": [
    {
     "name": "stdout",
     "output_type": "stream",
     "text": [
      "1 2 3 4 5 "
     ]
    }
   ],
   "source": [
    "li3 = [1,2,3,4,5]\n",
    "\n",
    "for i in range(len(li3)):\n",
    "  print(li3[i], end = \" \")"
   ]
  },
  {
   "cell_type": "code",
   "execution_count": 56,
   "metadata": {},
   "outputs": [
    {
     "name": "stdout",
     "output_type": "stream",
     "text": [
      "3 4 5 "
     ]
    }
   ],
   "source": [
    "for i in range(2, len(li3)):\n",
    "  print(li3[i], end = \" \")"
   ]
  },
  {
   "cell_type": "code",
   "execution_count": 57,
   "metadata": {},
   "outputs": [
    {
     "name": "stdout",
     "output_type": "stream",
     "text": [
      "1 2 3 4 5 "
     ]
    }
   ],
   "source": [
    "for ele in li3:\n",
    "  print(ele, end = \" \")"
   ]
  },
  {
   "cell_type": "code",
   "execution_count": 58,
   "metadata": {},
   "outputs": [
    {
     "name": "stdout",
     "output_type": "stream",
     "text": [
      "3 4 5 "
     ]
    }
   ],
   "source": [
    "for ele in li3[2:]:\n",
    "  print(ele, end = \" \")"
   ]
  },
  {
   "cell_type": "code",
   "execution_count": 59,
   "metadata": {},
   "outputs": [
    {
     "name": "stdout",
     "output_type": "stream",
     "text": [
      "3 4 "
     ]
    }
   ],
   "source": [
    "for ele in li3[2:4]:\n",
    "  print(ele, end = \" \")"
   ]
  },
  {
   "cell_type": "markdown",
   "metadata": {},
   "source": [
    "Negative Indexing"
   ]
  },
  {
   "cell_type": "code",
   "execution_count": 71,
   "metadata": {},
   "outputs": [
    {
     "name": "stdout",
     "output_type": "stream",
     "text": [
      "[1, 2, 3, 4, 5]\n",
      "5\n",
      "4\n",
      "2\n"
     ]
    }
   ],
   "source": [
    "print(li3)\n",
    "print(li3[-1])\n",
    "print(li3[-2])\n",
    "print(li3[-4])"
   ]
  },
  {
   "cell_type": "markdown",
   "metadata": {},
   "source": [
    "Sequencing"
   ]
  },
  {
   "cell_type": "code",
   "execution_count": 72,
   "metadata": {},
   "outputs": [
    {
     "name": "stdout",
     "output_type": "stream",
     "text": [
      "[2, 4]\n",
      "[5, 4, 3, 2, 1]\n",
      "[3, 4, 5]\n"
     ]
    }
   ],
   "source": [
    "print(li3[1:4:2])\n",
    "print(li3[-1:-6:-1])\n",
    "print(li3[-3::1])"
   ]
  },
  {
   "cell_type": "markdown",
   "metadata": {},
   "source": [
    "Taking Input In A List"
   ]
  },
  {
   "cell_type": "code",
   "execution_count": 76,
   "metadata": {},
   "outputs": [
    {
     "name": "stdout",
     "output_type": "stream",
     "text": [
      "[1, 3, 5, 2, 4]\n"
     ]
    }
   ],
   "source": [
    "# Line Separated Input\n",
    "\n",
    "n = int (input())\n",
    "li1 = []\n",
    "for i in range(n):\n",
    "  li1.append(int (input()))\n",
    "print(li1)"
   ]
  },
  {
   "cell_type": "code",
   "execution_count": 85,
   "metadata": {},
   "outputs": [
    {
     "name": "stdout",
     "output_type": "stream",
     "text": [
      "list1 [1, 2, 3, 4]\n",
      "list2 [5, 6, 7, 8]\n"
     ]
    }
   ],
   "source": [
    "# Space Separated Input\n",
    "\n",
    "# Method 1\n",
    "lis1 = input().split() # Split takes \" \" Bu Default\n",
    "final_list1 = []\n",
    "for ele in lis1:\n",
    "  final_list1.append(int(ele))\n",
    "print(\"list1\", final_list1)\n",
    "\n",
    "\n",
    "#Method 2 (Do All In One Line)\n",
    "lis2 = [int(x) for x in input().split()]\n",
    "print(\"list2\", lis2)"
   ]
  },
  {
   "cell_type": "markdown",
   "metadata": {},
   "source": [
    "Linear Search"
   ]
  },
  {
   "cell_type": "code",
   "execution_count": 97,
   "metadata": {},
   "outputs": [
    {
     "name": "stdout",
     "output_type": "stream",
     "text": [
      "2\n"
     ]
    }
   ],
   "source": [
    "li = [int(x) for x in input().split()]\n",
    "num = int (input())\n",
    "for i in range(len(li)):\n",
    "  if(li[i] == num):\n",
    "    print(i)\n",
    "    break\n",
    "else:\n",
    "  print(-1)"
   ]
  },
  {
   "cell_type": "markdown",
   "metadata": {},
   "source": [
    "Linear Search Using Functions"
   ]
  },
  {
   "cell_type": "code",
   "execution_count": 98,
   "metadata": {},
   "outputs": [
    {
     "name": "stdout",
     "output_type": "stream",
     "text": [
      "3\n"
     ]
    }
   ],
   "source": [
    "def linearSearch(li, num):\n",
    "  for i in range(len(li)):\n",
    "    if(li[i] == num):\n",
    "      return i\n",
    "  return -1\n",
    "\n",
    "li = [int(x) for x in input().split()]\n",
    "num = int (input())\n",
    "print(linearSearch(li, num))"
   ]
  },
  {
   "cell_type": "markdown",
   "metadata": {},
   "source": [
    "Mutable And Immutable"
   ]
  },
  {
   "cell_type": "code",
   "execution_count": 102,
   "metadata": {},
   "outputs": [
    {
     "name": "stdout",
     "output_type": "stream",
     "text": [
      "2\n"
     ]
    }
   ],
   "source": [
    "# Variables Are Immutable\n",
    "def fun(a):\n",
    "  a = 5\n",
    "\n",
    "a = 2\n",
    "fun(a)\n",
    "print(a)"
   ]
  },
  {
   "cell_type": "code",
   "execution_count": 101,
   "metadata": {},
   "outputs": [
    {
     "name": "stdout",
     "output_type": "stream",
     "text": [
      "[1, 5, 3, 4]\n"
     ]
    }
   ],
   "source": [
    "# Lists Are Mutable\n",
    "def fun(li):\n",
    "  li[1] = 5\n",
    "\n",
    "li = [1, 2, 3, 4]\n",
    "fun(li)\n",
    "print(li)"
   ]
  },
  {
   "cell_type": "markdown",
   "metadata": {},
   "source": [
    "Reversing A List"
   ]
  },
  {
   "cell_type": "code",
   "execution_count": 108,
   "metadata": {},
   "outputs": [
    {
     "name": "stdout",
     "output_type": "stream",
     "text": [
      "[6, 5, 4, 3, 2, 1]\n"
     ]
    }
   ],
   "source": [
    "# Method 1\n",
    "def reverse1(li):\n",
    "  for i in range(len(li)//2):\n",
    "    li[i], li[len(li)-i-1] = li[len(li)-i-1], li[i]\n",
    "\n",
    "li1 = [1, 2, 3 ,4 ,5, 6]\n",
    "reverse1(li)\n",
    "print(li)"
   ]
  },
  {
   "cell_type": "code",
   "execution_count": 109,
   "metadata": {},
   "outputs": [
    {
     "name": "stdout",
     "output_type": "stream",
     "text": [
      "[6, 5, 4, 3, 2, 1]\n"
     ]
    }
   ],
   "source": [
    "# Method 2\n",
    "def reverse1(li2):\n",
    "  for i in range(len(li2)//2):\n",
    "    li2[i], li2[-i-1] = li2[-i-1] , li2[i]\n",
    "\n",
    "li2 = [1, 2, 3 ,4 ,5, 6]\n",
    "reverse1(li2)\n",
    "print(li2)"
   ]
  },
  {
   "cell_type": "code",
   "execution_count": 110,
   "metadata": {},
   "outputs": [
    {
     "name": "stdout",
     "output_type": "stream",
     "text": [
      "[6, 5, 4, 3, 2, 1]\n"
     ]
    }
   ],
   "source": [
    "# Method 3\n",
    "li3 = [1, 2, 3 ,4 ,5, 6]\n",
    "li3 =li3[::-1]\n",
    "print(li3)"
   ]
  }
 ],
 "metadata": {
  "interpreter": {
   "hash": "b0fa6594d8f4cbf19f97940f81e996739fb7646882a419484c72d19e05852a7e"
  },
  "kernelspec": {
   "display_name": "Python 3.9.13 64-bit",
   "language": "python",
   "name": "python3"
  },
  "language_info": {
   "codemirror_mode": {
    "name": "ipython",
    "version": 3
   },
   "file_extension": ".py",
   "mimetype": "text/x-python",
   "name": "python",
   "nbconvert_exporter": "python",
   "pygments_lexer": "ipython3",
   "version": "3.9.13"
  },
  "orig_nbformat": 4
 },
 "nbformat": 4,
 "nbformat_minor": 2
}
