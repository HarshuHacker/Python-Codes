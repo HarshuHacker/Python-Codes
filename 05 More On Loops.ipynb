{
 "cells": [
  {
   "cell_type": "code",
   "execution_count": 8,
   "metadata": {},
   "outputs": [
    {
     "name": "stdout",
     "output_type": "stream",
     "text": [
      "h a r s h "
     ]
    }
   ],
   "source": [
    "s = \"harsh\"\n",
    "for i in s:\n",
    "  print(i, end=\" \")"
   ]
  },
  {
   "cell_type": "markdown",
   "metadata": {},
   "source": [
    "First N Natural Numbers"
   ]
  },
  {
   "cell_type": "code",
   "execution_count": 11,
   "metadata": {},
   "outputs": [
    {
     "name": "stdout",
     "output_type": "stream",
     "text": [
      "0 1 2 3 4 "
     ]
    }
   ],
   "source": [
    "# here we are giving only one values to range that is stop and start is by default 0 and stride/step is by default 1\n",
    "n = int(input())\n",
    "for i in range(n+1):\n",
    "  print(i, end= \" \")"
   ]
  },
  {
   "cell_type": "code",
   "execution_count": 12,
   "metadata": {},
   "outputs": [
    {
     "name": "stdout",
     "output_type": "stream",
     "text": [
      "1 2 3 4 "
     ]
    }
   ],
   "source": [
    "# here we are giving only two values to range that is start and stop and stride/step by by default to be 1\n",
    "n = int(input())\n",
    "for i in range(1, n+1):\n",
    "  print(i, end= \" \")"
   ]
  },
  {
   "cell_type": "code",
   "execution_count": 13,
   "metadata": {},
   "outputs": [
    {
     "name": "stdout",
     "output_type": "stream",
     "text": [
      "1 3 5 7 9 "
     ]
    }
   ],
   "source": [
    "# here we are giving all three values to range\n",
    "n = int(input())\n",
    "for i in range(1, n+1, 2):\n",
    "  print(i, end= \" \")"
   ]
  },
  {
   "cell_type": "markdown",
   "metadata": {},
   "source": [
    "Numbers From N To 1"
   ]
  },
  {
   "cell_type": "code",
   "execution_count": 15,
   "metadata": {},
   "outputs": [
    {
     "name": "stdout",
     "output_type": "stream",
     "text": [
      "5 4 3 2 1 "
     ]
    }
   ],
   "source": [
    "n = int(input())\n",
    "for i in range(n, 0, -1):\n",
    "  print(i, end= \" \")"
   ]
  },
  {
   "cell_type": "markdown",
   "metadata": {},
   "source": [
    "Print All Multiple Of 3 From a to b"
   ]
  },
  {
   "cell_type": "code",
   "execution_count": 16,
   "metadata": {},
   "outputs": [
    {
     "name": "stdout",
     "output_type": "stream",
     "text": [
      "0 3 6 9 12 15 18 21 24 27 30 33 36 39 42 45 48 51 54 57 60 63 66 69 72 75 78 81 84 87 90 93 96 99 "
     ]
    }
   ],
   "source": [
    "a = int(input())\n",
    "b = int(input())\n",
    "\n",
    "if a % 3 == 0:\n",
    "  s = a\n",
    "elif a % 3 == 1:\n",
    "  s = a + 2\n",
    "else:\n",
    "  s = a + 1\n",
    "\n",
    "for i in range(s, b+1, 3):\n",
    "  print(i, end = \" \")"
   ]
  },
  {
   "cell_type": "markdown",
   "metadata": {},
   "source": [
    "Is Prime"
   ]
  },
  {
   "cell_type": "code",
   "execution_count": 23,
   "metadata": {},
   "outputs": [
    {
     "name": "stdout",
     "output_type": "stream",
     "text": [
      "11 Is A Prime Number\n"
     ]
    }
   ],
   "source": [
    "n =int(input())\n",
    "flag = True\n",
    "for d in range(2, n):\n",
    "  if(n % d == 0):\n",
    "    flag = False\n",
    "if(flag == True):\n",
    "  print(n, \"Is A Prime Number\")\n",
    "else:\n",
    "  print(n, \"Is Not A Prime Number\")"
   ]
  },
  {
   "cell_type": "markdown",
   "metadata": {},
   "source": [
    "      1\n",
    "    2 3 2\n",
    "  3 4 5 4 3\n",
    "4 5 6 7 6 5 4"
   ]
  },
  {
   "cell_type": "code",
   "execution_count": 29,
   "metadata": {},
   "outputs": [
    {
     "name": "stdout",
     "output_type": "stream",
     "text": [
      "      1 \n",
      "    2 3 2 \n",
      "  3 4 5 4 3 \n",
      "4 5 6 7 6 5 4 \n"
     ]
    }
   ],
   "source": [
    "n = int(input())\n",
    "for i in range(1, n+1):\n",
    "  for space in range(n-i, 0, -1):\n",
    "    print(\" \", end= \" \")\n",
    "  for j in range(i, 2*i):\n",
    "    print(j, end=\" \")\n",
    "  for k in range(j-1, i-1, -1):\n",
    "    print(k, end=\" \")\n",
    "  print()"
   ]
  },
  {
   "cell_type": "markdown",
   "metadata": {},
   "source": [
    "Print All Prime Numbers Till N With Help Of Break Keyword"
   ]
  },
  {
   "cell_type": "code",
   "execution_count": null,
   "metadata": {},
   "outputs": [],
   "source": [
    "# This Code Will Take More Time When Using Large Value Of N\n",
    "n = int (input())\n",
    "for i in range(1, n+1):\n",
    "  flag = True\n",
    "  for d in range(2, i):\n",
    "    if(i % d == 0):\n",
    "      flag = False\n",
    "  if(flag == True):\n",
    "    print(i)"
   ]
  },
  {
   "cell_type": "code",
   "execution_count": 35,
   "metadata": {},
   "outputs": [
    {
     "name": "stdout",
     "output_type": "stream",
     "text": [
      "1\n",
      "2\n",
      "3\n",
      "5\n",
      "7\n",
      "11\n",
      "13\n",
      "17\n",
      "19\n",
      "23\n",
      "29\n",
      "31\n",
      "37\n",
      "41\n",
      "43\n",
      "47\n"
     ]
    }
   ],
   "source": [
    "# This Code Will Take Very Little Time Compared To The Above Code When Using Large Value Of N\n",
    "n = int (input())\n",
    "for i in range(1, n+1):\n",
    "  flag = True\n",
    "  for d in range(2, i):\n",
    "    if(i % d == 0):\n",
    "      flag = False\n",
    "      break\n",
    "  if(flag == True):\n",
    "    print(i)"
   ]
  },
  {
   "cell_type": "markdown",
   "metadata": {},
   "source": [
    "Using Else Instead Of Flag"
   ]
  },
  {
   "cell_type": "code",
   "execution_count": 36,
   "metadata": {},
   "outputs": [
    {
     "name": "stdout",
     "output_type": "stream",
     "text": [
      "1\n",
      "2\n",
      "3\n",
      "5\n",
      "7\n",
      "11\n",
      "13\n",
      "17\n",
      "19\n",
      "23\n",
      "29\n",
      "31\n",
      "37\n",
      "41\n",
      "43\n",
      "47\n"
     ]
    }
   ],
   "source": [
    "# Else condition will NOT be executed if the loop terminated because of break keyword \n",
    "n = int (input())\n",
    "for i in range(1, n+1):\n",
    "  for d in range(2, i):\n",
    "    if(i % d == 0):\n",
    "      break\n",
    "  else:\n",
    "    print(i)"
   ]
  },
  {
   "cell_type": "markdown",
   "metadata": {},
   "source": [
    "Print Even Number Twice And Odd Number Once Using Continue"
   ]
  },
  {
   "cell_type": "code",
   "execution_count": 2,
   "metadata": {},
   "outputs": [
    {
     "name": "stdout",
     "output_type": "stream",
     "text": [
      "1\n",
      "2\n",
      "2\n",
      "3\n",
      "4\n",
      "4\n",
      "5\n",
      "6\n",
      "6\n",
      "7\n",
      "8\n",
      "8\n",
      "9\n",
      "10\n",
      "10\n"
     ]
    }
   ],
   "source": [
    "#Using For Loop\n",
    "\n",
    "n = int (input())\n",
    "for i in range(1, n+1):\n",
    "  print(i)\n",
    "  if(i % 2 != 0):\n",
    "    continue\n",
    "  print(i)"
   ]
  },
  {
   "cell_type": "code",
   "execution_count": 7,
   "metadata": {},
   "outputs": [
    {
     "name": "stdout",
     "output_type": "stream",
     "text": [
      "1\n",
      "2\n",
      "2\n",
      "3\n",
      "4\n",
      "4\n",
      "5\n"
     ]
    }
   ],
   "source": [
    "#Using While Loop\n",
    "\n",
    "n = int (input())\n",
    "i = 1\n",
    "while (i <= n):\n",
    "  print(i)\n",
    "  if(i % 2 != 0):\n",
    "    # In Case Of While We Need To Be Careful\n",
    "    i += 1 # Without This It Will Run Infinite Loop\n",
    "    continue\n",
    "  print(i)\n",
    "  i += 1"
   ]
  }
 ],
 "metadata": {
  "interpreter": {
   "hash": "b0fa6594d8f4cbf19f97940f81e996739fb7646882a419484c72d19e05852a7e"
  },
  "kernelspec": {
   "display_name": "Python 3.9.13 64-bit",
   "language": "python",
   "name": "python3"
  },
  "language_info": {
   "codemirror_mode": {
    "name": "ipython",
    "version": 3
   },
   "file_extension": ".py",
   "mimetype": "text/x-python",
   "name": "python",
   "nbconvert_exporter": "python",
   "pygments_lexer": "ipython3",
   "version": "3.9.13"
  },
  "orig_nbformat": 4
 },
 "nbformat": 4,
 "nbformat_minor": 2
}
