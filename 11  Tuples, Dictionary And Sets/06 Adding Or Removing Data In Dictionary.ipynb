{
 "cells": [
  {
   "cell_type": "code",
   "execution_count": 41,
   "metadata": {},
   "outputs": [
    {
     "data": {
      "text/plain": [
       "{1: 2, 3: 4, 'list': [3, 4, 5, 6], 'dict': {'Hello': 2}}"
      ]
     },
     "execution_count": 41,
     "metadata": {},
     "output_type": "execute_result"
    }
   ],
   "source": [
    "a = {1:2, 3:4, \"list\": [3, 4, 5, 6], \"dict\": {\"Hello\":2}}\n",
    "a"
   ]
  },
  {
   "cell_type": "code",
   "execution_count": 42,
   "metadata": {},
   "outputs": [
    {
     "data": {
      "text/plain": [
       "{1: 2, 3: 4, 'list': [3, 4, 5, 6], 'dict': {'Hello': 2}, 'tup': (1, 2, 3)}"
      ]
     },
     "execution_count": 42,
     "metadata": {},
     "output_type": "execute_result"
    }
   ],
   "source": [
    "a[\"tup\"] = 1, 2, 3\n",
    "a"
   ]
  },
  {
   "cell_type": "code",
   "execution_count": 43,
   "metadata": {},
   "outputs": [
    {
     "data": {
      "text/plain": [
       "{1: 10, 3: 4, 'list': [3, 4, 5, 6], 'dict': {'Hello': 2}, 'tup': (1, 2, 3)}"
      ]
     },
     "execution_count": 43,
     "metadata": {},
     "output_type": "execute_result"
    }
   ],
   "source": [
    "a[1] = 10\n",
    "a"
   ]
  },
  {
   "cell_type": "code",
   "execution_count": 44,
   "metadata": {},
   "outputs": [
    {
     "data": {
      "text/plain": [
       "{1: 10,\n",
       " 3: 'updated',\n",
       " 'list': [3, 4, 5, 6],\n",
       " 'dict': {'Hello': 2},\n",
       " 'tup': (1, 2, 3),\n",
       " 'Harsh': 25,\n",
       " 'Ayush': 12}"
      ]
     },
     "execution_count": 44,
     "metadata": {},
     "output_type": "execute_result"
    }
   ],
   "source": [
    "b = {\"Harsh\": 25, 3:\"updated\", \"Ayush\": 12}\n",
    "a.update(b)\n",
    "a"
   ]
  },
  {
   "cell_type": "code",
   "execution_count": 45,
   "metadata": {},
   "outputs": [
    {
     "data": {
      "text/plain": [
       "(1, 2, 3)"
      ]
     },
     "execution_count": 45,
     "metadata": {},
     "output_type": "execute_result"
    }
   ],
   "source": [
    "a.pop(\"tup\")"
   ]
  },
  {
   "cell_type": "code",
   "execution_count": 46,
   "metadata": {},
   "outputs": [
    {
     "data": {
      "text/plain": [
       "{1: 10,\n",
       " 3: 'updated',\n",
       " 'list': [3, 4, 5, 6],\n",
       " 'dict': {'Hello': 2},\n",
       " 'Harsh': 25,\n",
       " 'Ayush': 12}"
      ]
     },
     "execution_count": 46,
     "metadata": {},
     "output_type": "execute_result"
    }
   ],
   "source": [
    "a"
   ]
  },
  {
   "cell_type": "code",
   "execution_count": 47,
   "metadata": {},
   "outputs": [
    {
     "ename": "KeyError",
     "evalue": "'tup'",
     "output_type": "error",
     "traceback": [
      "\u001b[0;31m---------------------------------------------------------------------------\u001b[0m",
      "\u001b[0;31mKeyError\u001b[0m                                  Traceback (most recent call last)",
      "\u001b[1;32m/Users/harshprasad/Movies/Study/Python/Python-Codes/11  Tuples, Dictionary And Sets/06 Adding Or Removing Data In Dictionary.ipynb Cell 7'\u001b[0m in \u001b[0;36m<cell line: 1>\u001b[0;34m()\u001b[0m\n\u001b[0;32m----> <a href='vscode-notebook-cell:/Users/harshprasad/Movies/Study/Python/Python-Codes/11%20%20Tuples%2C%20Dictionary%20And%20Sets/06%20Adding%20Or%20Removing%20Data%20In%20Dictionary.ipynb#ch0000005?line=0'>1</a>\u001b[0m a\u001b[39m.\u001b[39;49mpop(\u001b[39m\"\u001b[39;49m\u001b[39mtup\u001b[39;49m\u001b[39m\"\u001b[39;49m)\n",
      "\u001b[0;31mKeyError\u001b[0m: 'tup'"
     ]
    }
   ],
   "source": [
    "a.pop(\"tup\")"
   ]
  },
  {
   "cell_type": "code",
   "execution_count": null,
   "metadata": {},
   "outputs": [
    {
     "data": {
      "text/plain": [
       "{1: 10,\n",
       " 3: 'updated',\n",
       " 'list': [3, 4, 5, 6],\n",
       " 'dict': {'Hello': 2},\n",
       " 'Harsh': 25,\n",
       " 'Ayush': 12}"
      ]
     },
     "execution_count": 20,
     "metadata": {},
     "output_type": "execute_result"
    }
   ],
   "source": [
    "a"
   ]
  },
  {
   "cell_type": "code",
   "execution_count": null,
   "metadata": {},
   "outputs": [
    {
     "data": {
      "text/plain": [
       "{1: 10, 3: 'updated', 'dict': {'Hello': 2}, 'Harsh': 25, 'Ayush': 12}"
      ]
     },
     "execution_count": 22,
     "metadata": {},
     "output_type": "execute_result"
    }
   ],
   "source": [
    "del a[\"list\"]\n",
    "a"
   ]
  },
  {
   "cell_type": "code",
   "execution_count": null,
   "metadata": {},
   "outputs": [
    {
     "data": {
      "text/plain": [
       "{}"
      ]
     },
     "execution_count": 24,
     "metadata": {},
     "output_type": "execute_result"
    }
   ],
   "source": [
    "a.clear()\n",
    "a"
   ]
  },
  {
   "cell_type": "code",
   "execution_count": null,
   "metadata": {},
   "outputs": [
    {
     "ename": "NameError",
     "evalue": "name 'a' is not defined",
     "output_type": "error",
     "traceback": [
      "\u001b[0;31m---------------------------------------------------------------------------\u001b[0m",
      "\u001b[0;31mNameError\u001b[0m                                 Traceback (most recent call last)",
      "\u001b[1;32m/Users/harshprasad/Movies/Study/Python/Python-Codes/11  Tuples, Dictionary And Sets/06 Adding Or Removing Data In Dictionary.ipynb Cell 11'\u001b[0m in \u001b[0;36m<cell line: 2>\u001b[0;34m()\u001b[0m\n\u001b[1;32m      <a href='vscode-notebook-cell:/Users/harshprasad/Movies/Study/Python/Python-Codes/11%20%20Tuples%2C%20Dictionary%20And%20Sets/06%20Adding%20Or%20Removing%20Data%20In%20Dictionary.ipynb#ch0000011?line=0'>1</a>\u001b[0m \u001b[39mdel\u001b[39;00m a\n\u001b[0;32m----> <a href='vscode-notebook-cell:/Users/harshprasad/Movies/Study/Python/Python-Codes/11%20%20Tuples%2C%20Dictionary%20And%20Sets/06%20Adding%20Or%20Removing%20Data%20In%20Dictionary.ipynb#ch0000011?line=1'>2</a>\u001b[0m a\n",
      "\u001b[0;31mNameError\u001b[0m: name 'a' is not defined"
     ]
    }
   ],
   "source": [
    "del a\n",
    "a"
   ]
  }
 ],
 "metadata": {
  "interpreter": {
   "hash": "b0fa6594d8f4cbf19f97940f81e996739fb7646882a419484c72d19e05852a7e"
  },
  "kernelspec": {
   "display_name": "Python 3.9.13 64-bit",
   "language": "python",
   "name": "python3"
  },
  "language_info": {
   "codemirror_mode": {
    "name": "ipython",
    "version": 3
   },
   "file_extension": ".py",
   "mimetype": "text/x-python",
   "name": "python",
   "nbconvert_exporter": "python",
   "pygments_lexer": "ipython3",
   "version": "3.9.13"
  },
  "orig_nbformat": 4
 },
 "nbformat": 4,
 "nbformat_minor": 2
}
