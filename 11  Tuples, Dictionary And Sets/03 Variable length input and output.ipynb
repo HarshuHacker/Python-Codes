{
 "cells": [
  {
   "cell_type": "code",
   "execution_count": 8,
   "metadata": {},
   "outputs": [],
   "source": [
    "def sum(a, b, *more):\n",
    "  print(a, type(a))\n",
    "  print(b, type(b))\n",
    "  print(more, type(more))\n",
    "  sum = a + b\n",
    "  for i in more:\n",
    "    sum += i\n",
    "  print(sum)\n",
    "  print()"
   ]
  },
  {
   "cell_type": "code",
   "execution_count": 9,
   "metadata": {},
   "outputs": [
    {
     "name": "stdout",
     "output_type": "stream",
     "text": [
      "1 <class 'int'>\n",
      "2 <class 'int'>\n",
      "() <class 'tuple'>\n",
      "3\n",
      "\n",
      "1 <class 'int'>\n",
      "2 <class 'int'>\n",
      "(3, 4) <class 'tuple'>\n",
      "10\n",
      "\n"
     ]
    }
   ],
   "source": [
    "sum(1, 2)\n",
    "sum(1, 2, 3, 4)"
   ]
  },
  {
   "cell_type": "code",
   "execution_count": 13,
   "metadata": {},
   "outputs": [
    {
     "name": "stdout",
     "output_type": "stream",
     "text": [
      "(6, 5, -4) <class 'tuple'>\n",
      "6 <class 'int'>\n",
      "5 <class 'int'>\n",
      "-4 <class 'int'>\n"
     ]
    }
   ],
   "source": [
    "def sumDiff(a, b):\n",
    "  return a + b, a * b, a - b\n",
    "c = sumDiff(1, 5)\n",
    "d, e, f = sumDiff(1, 5)\n",
    "print(c, type(c))\n",
    "print(d, type(d))\n",
    "print(e, type(e))\n",
    "print(f, type(f))"
   ]
  }
 ],
 "metadata": {
  "interpreter": {
   "hash": "b0fa6594d8f4cbf19f97940f81e996739fb7646882a419484c72d19e05852a7e"
  },
  "kernelspec": {
   "display_name": "Python 3.9.13 64-bit",
   "language": "python",
   "name": "python3"
  },
  "language_info": {
   "codemirror_mode": {
    "name": "ipython",
    "version": 3
   },
   "file_extension": ".py",
   "mimetype": "text/x-python",
   "name": "python",
   "nbconvert_exporter": "python",
   "pygments_lexer": "ipython3",
   "version": "3.9.13"
  },
  "orig_nbformat": 4
 },
 "nbformat": 4,
 "nbformat_minor": 2
}
