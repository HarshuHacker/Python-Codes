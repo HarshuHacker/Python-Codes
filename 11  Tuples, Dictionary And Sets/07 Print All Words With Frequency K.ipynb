{
 "cells": [
  {
   "cell_type": "markdown",
   "metadata": {},
   "source": [
    "Print All The Words With Frequecy 2"
   ]
  },
  {
   "cell_type": "code",
   "execution_count": 34,
   "metadata": {},
   "outputs": [
    {
     "name": "stdout",
     "output_type": "stream",
     "text": [
      "In This Para We Need To Find Out If This Para Has Word Repeating Twice\n"
     ]
    }
   ],
   "source": [
    "string = \"In This Para We Need To Find Out If This Para Has Word Repeating Twice\"\n",
    "word = string.split()\n",
    "print(string)\n"
   ]
  },
  {
   "cell_type": "code",
   "execution_count": 35,
   "metadata": {},
   "outputs": [
    {
     "data": {
      "text/plain": [
       "{'In': 1,\n",
       " 'This': 2,\n",
       " 'Para': 2,\n",
       " 'We': 1,\n",
       " 'Need': 1,\n",
       " 'To': 1,\n",
       " 'Find': 1,\n",
       " 'Out': 1,\n",
       " 'If': 1,\n",
       " 'Has': 1,\n",
       " 'Word': 1,\n",
       " 'Repeating': 1,\n",
       " 'Twice': 1}"
      ]
     },
     "execution_count": 35,
     "metadata": {},
     "output_type": "execute_result"
    }
   ],
   "source": [
    "d = {}\n",
    "for w in word:\n",
    "  if(w in d):\n",
    "    d[w] = d[w] + 1\n",
    "  else:\n",
    "    d[w] = 1\n",
    "d"
   ]
  },
  {
   "cell_type": "code",
   "execution_count": 36,
   "metadata": {},
   "outputs": [
    {
     "data": {
      "text/plain": [
       "{'In': 1,\n",
       " 'This': 2,\n",
       " 'Para': 2,\n",
       " 'We': 1,\n",
       " 'Need': 1,\n",
       " 'To': 1,\n",
       " 'Find': 1,\n",
       " 'Out': 1,\n",
       " 'If': 1,\n",
       " 'Has': 1,\n",
       " 'Word': 1,\n",
       " 'Repeating': 1,\n",
       " 'Twice': 1}"
      ]
     },
     "execution_count": 36,
     "metadata": {},
     "output_type": "execute_result"
    }
   ],
   "source": [
    "e = {}\n",
    "for w in word:\n",
    "  e[w] = e.get(w, 0) + 1\n",
    "e"
   ]
  },
  {
   "cell_type": "code",
   "execution_count": 37,
   "metadata": {},
   "outputs": [
    {
     "name": "stdout",
     "output_type": "stream",
     "text": [
      "This\n",
      "Para\n"
     ]
    }
   ],
   "source": [
    "def printKFrequencies(string, k):\n",
    "  word = string.split()\n",
    "  e = {}\n",
    "  for w in word:\n",
    "    e[w] = e.get(w, 0) + 1\n",
    "  for key in e:\n",
    "    if(e[key] == k):\n",
    "      print(key)\n",
    "\n",
    "printKFrequencies(string, 2)"
   ]
  }
 ],
 "metadata": {
  "interpreter": {
   "hash": "b0fa6594d8f4cbf19f97940f81e996739fb7646882a419484c72d19e05852a7e"
  },
  "kernelspec": {
   "display_name": "Python 3.9.13 64-bit",
   "language": "python",
   "name": "python3"
  },
  "language_info": {
   "codemirror_mode": {
    "name": "ipython",
    "version": 3
   },
   "file_extension": ".py",
   "mimetype": "text/x-python",
   "name": "python",
   "nbconvert_exporter": "python",
   "pygments_lexer": "ipython3",
   "version": "3.9.13"
  },
  "orig_nbformat": 4
 },
 "nbformat": 4,
 "nbformat_minor": 2
}
