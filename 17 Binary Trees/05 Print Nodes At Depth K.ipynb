{
 "cells": [
  {
   "cell_type": "code",
   "execution_count": 1,
   "metadata": {},
   "outputs": [],
   "source": [
    "class BinaryTree:\n",
    "  def __init__(self, data):\n",
    "    self.data = data\n",
    "    self.left = None\n",
    "    self.right = None"
   ]
  },
  {
   "cell_type": "code",
   "execution_count": 2,
   "metadata": {},
   "outputs": [],
   "source": [
    "def BinaryTreeInput():\n",
    "  rootData = int(input())\n",
    "  if(rootData == -1):\n",
    "    return None\n",
    "  root = BinaryTree(rootData)\n",
    "  root.left = BinaryTreeInput()\n",
    "  root.right = BinaryTreeInput()\n",
    "  return root"
   ]
  },
  {
   "cell_type": "code",
   "execution_count": 3,
   "metadata": {},
   "outputs": [],
   "source": [
    "def PrintBinaryTreeDetailed(root):\n",
    "  if(root == None):\n",
    "    return\n",
    "  print(root.data, end = \" : \")\n",
    "  if(root.left != None):\n",
    "    print(\"L = \", root.left.data, end = \", \")\n",
    "  if(root.right != None):\n",
    "    print(\"R = \", root.right.data, end = \"\")\n",
    "  print()\n",
    "  PrintBinaryTreeDetailed(root.left)\n",
    "  PrintBinaryTreeDetailed(root.right)"
   ]
  },
  {
   "cell_type": "code",
   "execution_count": 4,
   "metadata": {},
   "outputs": [],
   "source": [
    "def nodesAtDepthK(root, k):\n",
    "  if(root == None):\n",
    "    return\n",
    "  if(k == 0):\n",
    "    print(root.data)\n",
    "    return\n",
    "  nodesAtDepthK(root.left, k-1)\n",
    "  nodesAtDepthK(root.right, k-1)"
   ]
  },
  {
   "cell_type": "code",
   "execution_count": 6,
   "metadata": {},
   "outputs": [
    {
     "name": "stdout",
     "output_type": "stream",
     "text": [
      "1 : L =  2, R =  3\n",
      "2 : L =  4, R =  5\n",
      "4 : L =  8, R =  9\n",
      "8 : \n",
      "9 : \n",
      "5 : L =  10, \n",
      "10 : \n",
      "3 : R =  7\n",
      "7 : L =  11, R =  12\n",
      "11 : \n",
      "12 : \n",
      "4\n",
      "5\n",
      "7\n"
     ]
    }
   ],
   "source": [
    "root = BinaryTreeInput()\n",
    "PrintBinaryTreeDetailed(root)\n",
    "nodesAtDepthK(root, 2)"
   ]
  }
 ],
 "metadata": {
  "kernelspec": {
   "display_name": "Python 3.9.13 64-bit",
   "language": "python",
   "name": "python3"
  },
  "language_info": {
   "codemirror_mode": {
    "name": "ipython",
    "version": 3
   },
   "file_extension": ".py",
   "mimetype": "text/x-python",
   "name": "python",
   "nbconvert_exporter": "python",
   "pygments_lexer": "ipython3",
   "version": "3.9.13"
  },
  "orig_nbformat": 4,
  "vscode": {
   "interpreter": {
    "hash": "b0fa6594d8f4cbf19f97940f81e996739fb7646882a419484c72d19e05852a7e"
   }
  }
 },
 "nbformat": 4,
 "nbformat_minor": 2
}
