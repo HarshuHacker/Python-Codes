{
 "cells": [
  {
   "cell_type": "code",
   "execution_count": 16,
   "metadata": {},
   "outputs": [],
   "source": [
    "class BinaryTree:\n",
    "  def __init__(self, data):\n",
    "    self.data = data\n",
    "    self.left = None\n",
    "    self.right = None"
   ]
  },
  {
   "cell_type": "code",
   "execution_count": 17,
   "metadata": {},
   "outputs": [],
   "source": [
    "def BinaryTreeInput():\n",
    "  rootData = int(input())\n",
    "  if(rootData == -1):\n",
    "    return None\n",
    "  root = BinaryTree(rootData)\n",
    "  root.left = BinaryTreeInput()\n",
    "  root.right = BinaryTreeInput()\n",
    "  return root"
   ]
  },
  {
   "cell_type": "code",
   "execution_count": 18,
   "metadata": {},
   "outputs": [],
   "source": [
    "def PrintBinaryTreeDetailed(root):\n",
    "  if(root == None):\n",
    "    return\n",
    "  print(root.data, end = \" : \")\n",
    "  if(root.left != None):\n",
    "    print(\"L = \", root.left.data, end = \", \")\n",
    "  if(root.right != None):\n",
    "    print(\"R = \", root.right.data, end = \"\")\n",
    "  print()\n",
    "  PrintBinaryTreeDetailed(root.left)\n",
    "  PrintBinaryTreeDetailed(root.right)"
   ]
  },
  {
   "cell_type": "code",
   "execution_count": 19,
   "metadata": {},
   "outputs": [],
   "source": [
    "def height(root):\n",
    "  if(root == None):\n",
    "    return 0\n",
    "  return 1 + max(height(root.left), height(root.right))"
   ]
  },
  {
   "cell_type": "code",
   "execution_count": 20,
   "metadata": {},
   "outputs": [],
   "source": [
    "def checkBalanced(root):\n",
    "  if(root == None):\n",
    "    return True\n",
    "  if(abs(height(root.left) - height(root.right)) > 1):\n",
    "    return False\n",
    "  return checkBalanced(root.left) and checkBalanced(root.right)"
   ]
  },
  {
   "cell_type": "code",
   "execution_count": 21,
   "metadata": {},
   "outputs": [],
   "source": [
    "def getHeightAndCheckBalanced(root):\n",
    "  if(root == None):\n",
    "    return 0, True\n",
    "  leftHeight, isLeftBalanced = getHeightAndCheckBalanced(root.left)\n",
    "  rightHeight, isRightBalanced = getHeightAndCheckBalanced(root.right)\n",
    "  if abs(leftHeight - rightHeight) <= 1 and (isLeftBalanced and isRightBalanced):\n",
    "    return 1 + max(leftHeight, rightHeight), True\n",
    "  else:\n",
    "    return 1 + max(leftHeight, rightHeight), False "
   ]
  },
  {
   "cell_type": "code",
   "execution_count": 22,
   "metadata": {},
   "outputs": [
    {
     "name": "stdout",
     "output_type": "stream",
     "text": [
      "1 : L =  2, R =  3\n",
      "2 : L =  4, \n",
      "4 : L =  5, \n",
      "5 : \n",
      "3 : R =  6\n",
      "6 : \n",
      "False\n",
      "(4, False)\n"
     ]
    }
   ],
   "source": [
    "root = BinaryTreeInput()\n",
    "PrintBinaryTreeDetailed(root)\n",
    "print(checkBalanced(root))\n",
    "print(getHeightAndCheckBalanced(root))"
   ]
  }
 ],
 "metadata": {
  "kernelspec": {
   "display_name": "Python 3.9.13 64-bit",
   "language": "python",
   "name": "python3"
  },
  "language_info": {
   "codemirror_mode": {
    "name": "ipython",
    "version": 3
   },
   "file_extension": ".py",
   "mimetype": "text/x-python",
   "name": "python",
   "nbconvert_exporter": "python",
   "pygments_lexer": "ipython3",
   "version": "3.9.13"
  },
  "orig_nbformat": 4,
  "vscode": {
   "interpreter": {
    "hash": "b0fa6594d8f4cbf19f97940f81e996739fb7646882a419484c72d19e05852a7e"
   }
  }
 },
 "nbformat": 4,
 "nbformat_minor": 2
}
