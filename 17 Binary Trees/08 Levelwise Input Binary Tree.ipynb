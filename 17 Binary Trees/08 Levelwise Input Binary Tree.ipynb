{
 "cells": [
  {
   "cell_type": "code",
   "execution_count": 1,
   "metadata": {},
   "outputs": [],
   "source": [
    "class BinaryTree:\n",
    "  def __init__(self, data):\n",
    "    self.data = data\n",
    "    self.left = None\n",
    "    self.right = None"
   ]
  },
  {
   "cell_type": "code",
   "execution_count": 5,
   "metadata": {},
   "outputs": [],
   "source": [
    "import queue\n",
    "def BinaryTreeLevelWiseInput():\n",
    "  print(\"Enter Root : \")\n",
    "  rootData = int(input())\n",
    "  if(rootData == -1):\n",
    "    return None\n",
    "  root = BinaryTree(rootData)\n",
    "  q = queue.Queue()\n",
    "  q.put(root)\n",
    "  while(q.qsize() != 0):\n",
    "    currNode = q.get()\n",
    "    print(\"Enter The Left Child Of\", currNode.data)\n",
    "    c1 = int(input())\n",
    "    if(c1 != -1):\n",
    "      child1 = BinaryTree(c1)\n",
    "      q.put(child1)\n",
    "      currNode.left = child1\n",
    "    print(\"Enter The Right Child Of\", currNode.data)\n",
    "    c2 = int(input())\n",
    "    if(c2 != -1):\n",
    "      child2 = BinaryTree(c2)\n",
    "      q.put(child2)\n",
    "      currNode.right = child2\n",
    "  return root"
   ]
  },
  {
   "cell_type": "code",
   "execution_count": 6,
   "metadata": {},
   "outputs": [],
   "source": [
    "def PrintBinaryTreeDetailed(root):\n",
    "  if(root == None):\n",
    "    return\n",
    "  print(root.data, end = \" : \")\n",
    "  if(root.left != None):\n",
    "    print(\"L = \", root.left.data, end = \", \")\n",
    "  if(root.right != None):\n",
    "    print(\"R = \", root.right.data, end = \"\")\n",
    "  print()\n",
    "  PrintBinaryTreeDetailed(root.left)\n",
    "  PrintBinaryTreeDetailed(root.right)"
   ]
  },
  {
   "cell_type": "code",
   "execution_count": 10,
   "metadata": {},
   "outputs": [
    {
     "name": "stdout",
     "output_type": "stream",
     "text": [
      "Enter Root : \n",
      "Enter The Left Child Of 1\n",
      "Enter The Right Child Of 1\n",
      "Enter The Left Child Of 2\n",
      "Enter The Right Child Of 2\n",
      "Enter The Left Child Of 3\n",
      "Enter The Right Child Of 3\n",
      "Enter The Left Child Of 4\n",
      "Enter The Right Child Of 4\n",
      "Enter The Left Child Of 5\n",
      "Enter The Right Child Of 5\n",
      "Enter The Left Child Of 6\n",
      "Enter The Right Child Of 6\n",
      "Enter The Left Child Of 7\n",
      "Enter The Right Child Of 7\n",
      "Enter The Left Child Of 8\n",
      "Enter The Right Child Of 8\n",
      "1 : L =  2, R =  3\n",
      "2 : L =  4, R =  5\n",
      "4 : \n",
      "5 : R =  8\n",
      "8 : \n",
      "3 : L =  6, R =  7\n",
      "6 : \n",
      "7 : \n"
     ]
    }
   ],
   "source": [
    "root = BinaryTreeLevelWiseInput()\n",
    "PrintBinaryTreeDetailed(root)"
   ]
  }
 ],
 "metadata": {
  "kernelspec": {
   "display_name": "Python 3.9.13 64-bit",
   "language": "python",
   "name": "python3"
  },
  "language_info": {
   "codemirror_mode": {
    "name": "ipython",
    "version": 3
   },
   "file_extension": ".py",
   "mimetype": "text/x-python",
   "name": "python",
   "nbconvert_exporter": "python",
   "pygments_lexer": "ipython3",
   "version": "3.9.13"
  },
  "orig_nbformat": 4,
  "vscode": {
   "interpreter": {
    "hash": "b0fa6594d8f4cbf19f97940f81e996739fb7646882a419484c72d19e05852a7e"
   }
  }
 },
 "nbformat": 4,
 "nbformat_minor": 2
}
