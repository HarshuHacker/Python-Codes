{
 "cells": [
  {
   "cell_type": "markdown",
   "metadata": {},
   "source": [
    "Replace 'k' with 's'"
   ]
  },
  {
   "cell_type": "code",
   "execution_count": 11,
   "metadata": {},
   "outputs": [
    {
     "name": "stdout",
     "output_type": "stream",
     "text": [
      "Enter Character To Be Replaced : \n",
      "Enter Character To Be Replaced With: \n",
      "Harsh Prasad\n"
     ]
    }
   ],
   "source": [
    "def replaceKWithS(string, oldChar, newChar):\n",
    "  if(len(string) == 0):\n",
    "    return string\n",
    "  if(string[0] == oldChar):\n",
    "    return newChar + replaceKWithS(string[1:], oldChar, newChar)\n",
    "  else:\n",
    "    return string[0] + replaceKWithS(string[1:], oldChar, newChar)\n",
    "\n",
    "string = \"Harkh Prakad\"\n",
    "print(\"Enter Character To Be Replaced : \")\n",
    "oldChar = input()\n",
    "print(\"Enter Character To Be Replaced With: \")\n",
    "newChar = input()\n",
    "print(replaceKWithS(string, oldChar, newChar))"
   ]
  }
 ],
 "metadata": {
  "kernelspec": {
   "display_name": "Python 3.9.13 64-bit",
   "language": "python",
   "name": "python3"
  },
  "language_info": {
   "codemirror_mode": {
    "name": "ipython",
    "version": 3
   },
   "file_extension": ".py",
   "mimetype": "text/x-python",
   "name": "python",
   "nbconvert_exporter": "python",
   "pygments_lexer": "ipython3",
   "version": "3.9.13"
  },
  "orig_nbformat": 4,
  "vscode": {
   "interpreter": {
    "hash": "b0fa6594d8f4cbf19f97940f81e996739fb7646882a419484c72d19e05852a7e"
   }
  }
 },
 "nbformat": 4,
 "nbformat_minor": 2
}
