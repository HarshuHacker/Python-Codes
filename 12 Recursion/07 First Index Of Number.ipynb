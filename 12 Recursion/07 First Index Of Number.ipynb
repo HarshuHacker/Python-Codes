{
 "cells": [
  {
   "cell_type": "markdown",
   "metadata": {},
   "source": [
    "First Index Of Number"
   ]
  },
  {
   "cell_type": "code",
   "execution_count": 19,
   "metadata": {},
   "outputs": [
    {
     "data": {
      "text/plain": [
       "6"
      ]
     },
     "execution_count": 19,
     "metadata": {},
     "output_type": "execute_result"
    }
   ],
   "source": [
    "# WIth Higher Space Complexity\n",
    "\n",
    "def firstIndex1(li, num):\n",
    "  if(len(li) == 0):\n",
    "    return -1\n",
    "  if(li[0] == num):\n",
    "    return 0\n",
    "  smallerOutput = firstIndex1(li[1:], num)\n",
    "  if(smallerOutput == -1):\n",
    "    return -1\n",
    "  else:\n",
    "    return 1 + smallerOutput\n",
    "\n",
    "li = [2, 4, 6, 8, 10, 12, 14, 6, 8, 30]\n",
    "num = 14\n",
    "firstIndex1(li, num)"
   ]
  },
  {
   "cell_type": "code",
   "execution_count": 14,
   "metadata": {},
   "outputs": [
    {
     "data": {
      "text/plain": [
       "-1"
      ]
     },
     "execution_count": 14,
     "metadata": {},
     "output_type": "execute_result"
    }
   ],
   "source": [
    "def firstIndex2(li, num, si):\n",
    "  if(si == len(li)):\n",
    "    return -1\n",
    "  if(li[si] == num):\n",
    "    return si\n",
    "  return firstIndex2(li, num, si+1)\n",
    "\n",
    "li = [2, 4, 6, 8, 10, 12, 14, 6, 8, 30]\n",
    "num = 19\n",
    "firstIndex2(li, num, 0)"
   ]
  }
 ],
 "metadata": {
  "kernelspec": {
   "display_name": "Python 3.9.13 64-bit",
   "language": "python",
   "name": "python3"
  },
  "language_info": {
   "codemirror_mode": {
    "name": "ipython",
    "version": 3
   },
   "file_extension": ".py",
   "mimetype": "text/x-python",
   "name": "python",
   "nbconvert_exporter": "python",
   "pygments_lexer": "ipython3",
   "version": "3.9.13"
  },
  "orig_nbformat": 4,
  "vscode": {
   "interpreter": {
    "hash": "b0fa6594d8f4cbf19f97940f81e996739fb7646882a419484c72d19e05852a7e"
   }
  }
 },
 "nbformat": 4,
 "nbformat_minor": 2
}
