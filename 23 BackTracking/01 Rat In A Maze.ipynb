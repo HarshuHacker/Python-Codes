{
 "cells": [
  {
   "cell_type": "code",
   "execution_count": 11,
   "metadata": {},
   "outputs": [
    {
     "name": "stdout",
     "output_type": "stream",
     "text": [
      "[[1, 0, 0, 0], [1, 0, 0, 0], [1, 0, 0, 0], [1, 1, 1, 1]]\n",
      "[[1, 0, 0, 0], [1, 0, 0, 0], [1, 1, 0, 0], [0, 1, 1, 1]]\n",
      "[[1, 1, 1, 0], [0, 0, 1, 1], [0, 0, 0, 1], [0, 0, 0, 1]]\n",
      "[[1, 1, 1, 1], [0, 0, 0, 1], [0, 0, 0, 1], [0, 0, 0, 1]]\n"
     ]
    }
   ],
   "source": [
    "def printPathHelper(x, y, maze, n, solution):\n",
    "    if x == n - 1 and y == n - 1:\n",
    "        solution[x][y] = 1\n",
    "        print(solution)\n",
    "        solution[x][y] = 0\n",
    "        return\n",
    "    \n",
    "    if x < 0 or y < 0 or x >= n or y >= n or maze[x][y] == 0 or solution[x][y] == 1:\n",
    "        return\n",
    "    \n",
    "    solution[x][y] = 1\n",
    "    printPathHelper(x + 1, y, maze, n, solution)\n",
    "    printPathHelper(x, y + 1, maze, n, solution)\n",
    "    printPathHelper(x - 1, y, maze, n, solution)\n",
    "    printPathHelper(x, y - 1, maze, n, solution)\n",
    "    solution[x][y] = 0\n",
    "    return\n",
    "\n",
    "def printPath(maze):\n",
    "    n = len(maze)\n",
    "    solution = [[0 for j in range(n)] for i in range(n)]\n",
    "    printPathHelper(0, 0, maze, n, solution)\n",
    "    \n",
    "# n = 4\n",
    "# maze = [[1, 1, 1, 1], [1, 0, 1, 1], [1, 1, 0, 1], [1, 1, 1, 1]]\n",
    "n = int(input())\n",
    "maze=[]\n",
    "for i in range(n):\n",
    "    row=[int(ele) for ele in input().split()]\n",
    "    maze.append(row)\n",
    "printPath(maze)"
   ]
  }
 ],
 "metadata": {
  "kernelspec": {
   "display_name": "Python 3.9.13 64-bit",
   "language": "python",
   "name": "python3"
  },
  "language_info": {
   "codemirror_mode": {
    "name": "ipython",
    "version": 3
   },
   "file_extension": ".py",
   "mimetype": "text/x-python",
   "name": "python",
   "nbconvert_exporter": "python",
   "pygments_lexer": "ipython3",
   "version": "3.9.13"
  },
  "orig_nbformat": 4,
  "vscode": {
   "interpreter": {
    "hash": "b0fa6594d8f4cbf19f97940f81e996739fb7646882a419484c72d19e05852a7e"
   }
  }
 },
 "nbformat": 4,
 "nbformat_minor": 2
}
