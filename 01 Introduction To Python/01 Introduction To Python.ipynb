{
 "cells": [
  {
   "cell_type": "markdown",
   "metadata": {},
   "source": [
    "Print Hello World"
   ]
  },
  {
   "cell_type": "code",
   "execution_count": 50,
   "metadata": {},
   "outputs": [
    {
     "name": "stdout",
     "output_type": "stream",
     "text": [
      "Hello World\n"
     ]
    }
   ],
   "source": [
    "print(\"Hello World\")"
   ]
  },
  {
   "cell_type": "markdown",
   "metadata": {},
   "source": [
    "Variables"
   ]
  },
  {
   "cell_type": "code",
   "execution_count": 2,
   "metadata": {},
   "outputs": [
    {
     "name": "stdout",
     "output_type": "stream",
     "text": [
      "30\n",
      "sum\n"
     ]
    }
   ],
   "source": [
    "a = 10\n",
    "b = 20\n",
    "sum = a + b\n",
    "print(sum)\n",
    "print(\"sum\")"
   ]
  },
  {
   "cell_type": "markdown",
   "metadata": {},
   "source": [
    "Variable Naming"
   ]
  },
  {
   "cell_type": "code",
   "execution_count": 12,
   "metadata": {},
   "outputs": [],
   "source": [
    "abc = 10\n",
    "_abc = 20\n",
    "as123 = 30\n",
    "# 12asd = 40\n",
    "# asd@ed = 50"
   ]
  },
  {
   "cell_type": "markdown",
   "metadata": {},
   "source": [
    "Assigning Different Type Of Data To A Variable"
   ]
  },
  {
   "cell_type": "code",
   "execution_count": 11,
   "metadata": {},
   "outputs": [
    {
     "name": "stdout",
     "output_type": "stream",
     "text": [
      "Address Of Str : abc =  4298909872\n",
      "Address Of Str : abc =  4298909872\n",
      "Address Of Str : abc =  4342539408\n",
      "Address Of Str : abc =  4342539408\n",
      "We can conclude that if two different variables have same data then both the variables points to same data\n",
      "Address Of Number =  4308041944\n",
      "Address Of Number =  4308041944\n",
      "Address Of Number =  4342090032\n",
      "Address Of Number =  4342091408\n",
      "We can conclude that if two different variables have same numbers then both the variables points to same data if the number is between -5 to 256\n"
     ]
    }
   ],
   "source": [
    "a = \"abc\"\n",
    "print(\"Address Of Str : abc = \",id(a))\n",
    "n = \"abc\"\n",
    "print(\"Address Of Str : abc = \",id(n))\n",
    "\n",
    "a = \"abcdefijklmnopqrstuvwxyz\"\n",
    "print(\"Address Of Str : abc = \",id(a))\n",
    "n = \"abcdefijklmnopqrstuvwxyz\"\n",
    "print(\"Address Of Str : abc = \",id(n))\n",
    "\n",
    "print(\"We can conclude that if two different variables have same data then both the variables points to same data\")\n",
    "\n",
    "\n",
    "x = 256\n",
    "print(\"Address Of Number = \",id(x))\n",
    "y = 256\n",
    "print(\"Address Of Number = \",id(y))\n",
    "\n",
    "x = 257\n",
    "print(\"Address Of Number = \",id(x))\n",
    "y = 257\n",
    "print(\"Address Of Number = \",id(y))\n",
    "\n",
    "print(\"We can conclude that if two different variables have same numbers then both the variables points to same data if the number is between -5 to 256\")"
   ]
  },
  {
   "cell_type": "markdown",
   "metadata": {},
   "source": [
    "Arithmetic Operators"
   ]
  },
  {
   "cell_type": "code",
   "execution_count": 3,
   "metadata": {},
   "outputs": [
    {
     "name": "stdout",
     "output_type": "stream",
     "text": [
      "Sum :  14\n",
      "Difference :  6\n",
      "Product :  40\n",
      "Division :  2.5\n",
      "Integer Division :  2\n",
      "Modulus :  2\n",
      "Exponent :  10000\n"
     ]
    }
   ],
   "source": [
    "a=10\n",
    "b=4\n",
    "\n",
    "print(\"Sum : \", a+b)\n",
    "print(\"Difference : \", a-b)\n",
    "print(\"Product : \",a*b)\n",
    "print(\"Division : \", a/b)\n",
    "print(\"Integer Division : \", a//b)\n",
    "print(\"Modulus : \", a%b)\n",
    "print(\"Exponent : \", a**b)"
   ]
  },
  {
   "cell_type": "markdown",
   "metadata": {},
   "source": [
    "Taking Inputs"
   ]
  },
  {
   "cell_type": "code",
   "execution_count": 20,
   "metadata": {},
   "outputs": [
    {
     "name": "stdout",
     "output_type": "stream",
     "text": [
      "2.4\n",
      "Type of a :  <class 'str'>\n",
      "5.2\n",
      "Type of a :  <class 'float'>\n",
      "2\n",
      "Type of a :  <class 'int'>\n",
      "5\n",
      "Type of a :  <class 'int'>\n"
     ]
    }
   ],
   "source": [
    "a = input()\n",
    "print(a)\n",
    "print(\"Type of a : \", type(a))\n",
    "\n",
    "a = input()\n",
    "a = float(a)\n",
    "print(a)\n",
    "print(\"Type of a : \", type(a))\n",
    "\n",
    "a = 2.4\n",
    "a = int(a)\n",
    "print(a)\n",
    "print(\"Type of a : \", type(a))\n",
    "\n",
    "a = int(input())\n",
    "print(a)\n",
    "print(\"Type of a : \", type(a))\n",
    "# we cannot typecast input from one type to another if its invalid\n",
    "# eg : we can't typecast float to int , string to float or int\n",
    "# if we give input as integer then there will be no error\n"
   ]
  }
 ],
 "metadata": {
  "interpreter": {
   "hash": "50292dbb1f747f7151d445135d392af3138fb3c65386d17d9510cb605222b10b"
  },
  "kernelspec": {
   "display_name": "Python 3.9.13 64-bit",
   "language": "python",
   "name": "python3"
  },
  "language_info": {
   "codemirror_mode": {
    "name": "ipython",
    "version": 3
   },
   "file_extension": ".py",
   "mimetype": "text/x-python",
   "name": "python",
   "nbconvert_exporter": "python",
   "pygments_lexer": "ipython3",
   "version": "3.9.13"
  },
  "orig_nbformat": 4
 },
 "nbformat": 4,
 "nbformat_minor": 2
}
