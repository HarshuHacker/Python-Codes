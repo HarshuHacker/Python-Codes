{
 "cells": [
  {
   "cell_type": "code",
   "execution_count": 1,
   "metadata": {},
   "outputs": [
    {
     "name": "stdout",
     "output_type": "stream",
     "text": [
      "40\n",
      "60\n",
      "False\n",
      "5\n"
     ]
    }
   ],
   "source": [
    "class stack:\n",
    "  def __init__(self):\n",
    "    self.__arr = []\n",
    "  def push(self, data):\n",
    "    self.data = data\n",
    "    self.__arr.append(data)\n",
    "\n",
    "  def pop(self):\n",
    "    if(self.isEmpty()):\n",
    "      return -1\n",
    "    self.__arr.pop()\n",
    "\n",
    "  def top(self):\n",
    "    if(self.isEmpty()):\n",
    "      return -1\n",
    "    return self.__arr[len(self.__arr) - 1]\n",
    "\n",
    "  def size(self):\n",
    "    return len(self.__arr)\n",
    "\n",
    "  def isEmpty(self):\n",
    "    return self.size() == 0\n",
    "\n",
    "s1 = stack()\n",
    "s1.push(10)\n",
    "s1.push(20)\n",
    "s1.push(30)\n",
    "s1.push(40)\n",
    "s1.push(50)\n",
    "s1.pop()\n",
    "print(s1.top())\n",
    "s1.push(60)\n",
    "print(s1.top())\n",
    "print(s1.isEmpty())\n",
    "print(s1.size())"
   ]
  }
 ],
 "metadata": {
  "kernelspec": {
   "display_name": "Python 3.9.13 64-bit",
   "language": "python",
   "name": "python3"
  },
  "language_info": {
   "codemirror_mode": {
    "name": "ipython",
    "version": 3
   },
   "file_extension": ".py",
   "mimetype": "text/x-python",
   "name": "python",
   "nbconvert_exporter": "python",
   "pygments_lexer": "ipython3",
   "version": "3.9.13"
  },
  "orig_nbformat": 4,
  "vscode": {
   "interpreter": {
    "hash": "b0fa6594d8f4cbf19f97940f81e996739fb7646882a419484c72d19e05852a7e"
   }
  }
 },
 "nbformat": 4,
 "nbformat_minor": 2
}
