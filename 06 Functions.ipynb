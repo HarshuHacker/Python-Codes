{
 "cells": [
  {
   "cell_type": "markdown",
   "metadata": {},
   "source": [
    "Permutation And Combination Using Functions"
   ]
  },
  {
   "cell_type": "code",
   "execution_count": 5,
   "metadata": {},
   "outputs": [
    {
     "name": "stdout",
     "output_type": "stream",
     "text": [
      "Permutation :  20\n",
      "Combination :  10\n"
     ]
    }
   ],
   "source": [
    "n = int (input())\n",
    "r = int (input())\n",
    "\n",
    "def fact(num):\n",
    "  fac = 1\n",
    "  for i in range(1, num+1):\n",
    "    fac *= i\n",
    "  return fac\n",
    "\n",
    "nFact = fact(n)\n",
    "rFact = fact(r)\n",
    "nrFact = fact(n-r)\n",
    "print(\"Permutation : \", nFact//nrFact)\n",
    "print(\"Combination : \", nFact//(rFact*nrFact))"
   ]
  },
  {
   "cell_type": "markdown",
   "metadata": {},
   "source": [
    "Print Prime Numbers From 2 To N"
   ]
  },
  {
   "cell_type": "code",
   "execution_count": 7,
   "metadata": {},
   "outputs": [],
   "source": [
    "def isPrime(n):\n",
    "  for d in range(2, n):\n",
    "    if(n % d == 0):\n",
    "      break\n",
    "  else:\n",
    "    return True\n",
    "  return False"
   ]
  },
  {
   "cell_type": "code",
   "execution_count": 14,
   "metadata": {},
   "outputs": [
    {
     "name": "stdout",
     "output_type": "stream",
     "text": [
      "2 Is A Prime Number\n",
      "3 Is A Prime Number\n",
      "5 Is A Prime Number\n",
      "7 Is A Prime Number\n"
     ]
    }
   ],
   "source": [
    "def isPrimeFrom2ToN(num):\n",
    "  for i in range(2, num+1):\n",
    "    if(isPrime(i)):\n",
    "      print(i, \"Is A Prime Number\")\n",
    "\n",
    "num = int(input())\n",
    "isPrimeFrom2ToN(num)"
   ]
  },
  {
   "cell_type": "markdown",
   "metadata": {},
   "source": [
    "Scope Of Variables"
   ]
  },
  {
   "cell_type": "code",
   "execution_count": 24,
   "metadata": {},
   "outputs": [
    {
     "name": "stdout",
     "output_type": "stream",
     "text": [
      "Inside Global :  10\n",
      "Inside Local :  30\n",
      "Id Of a1 Inside Local Scope :  4344671440\n",
      "Inside Local :  20\n",
      "Inside Global :  10\n",
      "Id Of a1 Inside Global Scope :  4344670800\n"
     ]
    }
   ],
   "source": [
    "# Can't Print A Local Variable Outside Its Scope \n",
    "a1 = 10\n",
    "def fun ():\n",
    "  b1 = 20\n",
    "  a1 = 30\n",
    "  print(\"Inside Local : \", a1)\n",
    "  print(\"Id Of a1 Inside Local Scope : \", id(a1))\n",
    "  print(\"Inside Local : \", b1)\n",
    "print(\"Inside Global : \", a1)\n",
    "fun()\n",
    "print(\"Inside Global : \", a1)\n",
    "print(\"Id Of a1 Inside Global Scope : \", id(a1))\n",
    "# print(\"Inside Global : \", b1) This Will Throw An Error"
   ]
  },
  {
   "cell_type": "code",
   "execution_count": 23,
   "metadata": {},
   "outputs": [
    {
     "name": "stdout",
     "output_type": "stream",
     "text": [
      "Inside Global :  10\n",
      "Inside Local :  30\n",
      "Id Of a1 Inside Local Scope :  4344671440\n",
      "Inside Local :  20\n",
      "Inside Global :  30\n",
      "Id Of a1 Inside Global Scope :  4344671440\n"
     ]
    }
   ],
   "source": [
    "# To Make Changes In The Global Scope From A Local Scope We Need To Use Global Keyword\n",
    "a1 = 10\n",
    "def fun ():\n",
    "  b1 = 20\n",
    "  global a1\n",
    "  a1 = 30\n",
    "  print(\"Inside Local : \", a1)\n",
    "  print(\"Id Of a1 Inside Local Scope : \", id(a1))\n",
    "  print(\"Inside Local : \", b1)\n",
    "print(\"Inside Global : \", a1)\n",
    "fun()\n",
    "print(\"Inside Global : \", a1)\n",
    "print(\"Id Of a1 Inside Global Scope : \", id(a1))"
   ]
  },
  {
   "cell_type": "code",
   "execution_count": 28,
   "metadata": {},
   "outputs": [
    {
     "name": "stdout",
     "output_type": "stream",
     "text": [
      "10\n"
     ]
    }
   ],
   "source": [
    "def fun():\n",
    "  b = 10\n",
    "  return b # We Need To Return The Value If We Want To Print Or Use The Local Value Globally\n",
    "\n",
    "print(fun())"
   ]
  },
  {
   "cell_type": "markdown",
   "metadata": {},
   "source": [
    "Default Parameters In Functions"
   ]
  },
  {
   "cell_type": "code",
   "execution_count": 32,
   "metadata": {},
   "outputs": [
    {
     "name": "stdout",
     "output_type": "stream",
     "text": [
      "19\n",
      "23\n",
      "27\n",
      "20\n",
      "23\n"
     ]
    }
   ],
   "source": [
    "# We Need To Provide Default Arguments After All The Non - Default Argumnets\n",
    "def fun (a, b, c = 2, d = 4):\n",
    "  return a + b + c + d\n",
    "\n",
    "print(fun(5, 8)) # Here c = 2 and d = 4\n",
    "print(fun(5, 8, 6)) # Here c = 6 and d = 4\n",
    "print(fun(5, 8, 8, 6)) # Here c = 8 and d = 6\n",
    "print(fun(5, 8, d = 5)) # Here c = 2 and d = 5\n",
    "print(fun(b = 8, d = 8, a = 5, c = 2)) # Python Takes The Arguments And Assign Them Sequentially If We Don't Provide The Variable Name But If We Provide Variable Name Then It Assign It Using The Name"
   ]
  }
 ],
 "metadata": {
  "interpreter": {
   "hash": "b0fa6594d8f4cbf19f97940f81e996739fb7646882a419484c72d19e05852a7e"
  },
  "kernelspec": {
   "display_name": "Python 3.9.13 64-bit",
   "language": "python",
   "name": "python3"
  },
  "language_info": {
   "codemirror_mode": {
    "name": "ipython",
    "version": 3
   },
   "file_extension": ".py",
   "mimetype": "text/x-python",
   "name": "python",
   "nbconvert_exporter": "python",
   "pygments_lexer": "ipython3",
   "version": "3.9.13"
  },
  "orig_nbformat": 4
 },
 "nbformat": 4,
 "nbformat_minor": 2
}
