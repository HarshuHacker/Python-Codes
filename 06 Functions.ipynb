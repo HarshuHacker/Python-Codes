{
 "cells": [
  {
   "cell_type": "markdown",
   "metadata": {},
   "source": [
    "Permutation And Combination Using Functions"
   ]
  },
  {
   "cell_type": "code",
   "execution_count": 5,
   "metadata": {},
   "outputs": [
    {
     "name": "stdout",
     "output_type": "stream",
     "text": [
      "Permutation :  20\n",
      "Combination :  10\n"
     ]
    }
   ],
   "source": [
    "n = int (input())\n",
    "r = int (input())\n",
    "\n",
    "def fact(num):\n",
    "  fac = 1\n",
    "  for i in range(1, num+1):\n",
    "    fac *= i\n",
    "  return fac\n",
    "\n",
    "nFact = fact(n)\n",
    "rFact = fact(r)\n",
    "nrFact = fact(n-r)\n",
    "print(\"Permutation : \", nFact//nrFact)\n",
    "print(\"Combination : \", nFact//(rFact*nrFact))"
   ]
  }
 ],
 "metadata": {
  "interpreter": {
   "hash": "b0fa6594d8f4cbf19f97940f81e996739fb7646882a419484c72d19e05852a7e"
  },
  "kernelspec": {
   "display_name": "Python 3.9.13 64-bit",
   "language": "python",
   "name": "python3"
  },
  "language_info": {
   "codemirror_mode": {
    "name": "ipython",
    "version": 3
   },
   "file_extension": ".py",
   "mimetype": "text/x-python",
   "name": "python",
   "nbconvert_exporter": "python",
   "pygments_lexer": "ipython3",
   "version": "3.9.13"
  },
  "orig_nbformat": 4
 },
 "nbformat": 4,
 "nbformat_minor": 2
}
