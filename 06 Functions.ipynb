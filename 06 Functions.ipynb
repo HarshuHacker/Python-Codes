{
 "cells": [
  {
   "cell_type": "markdown",
   "metadata": {},
   "source": [
    "Permutation And Combination Using Functions"
   ]
  },
  {
   "cell_type": "code",
   "execution_count": 5,
   "metadata": {},
   "outputs": [
    {
     "name": "stdout",
     "output_type": "stream",
     "text": [
      "Permutation :  20\n",
      "Combination :  10\n"
     ]
    }
   ],
   "source": [
    "n = int (input())\n",
    "r = int (input())\n",
    "\n",
    "def fact(num):\n",
    "  fac = 1\n",
    "  for i in range(1, num+1):\n",
    "    fac *= i\n",
    "  return fac\n",
    "\n",
    "nFact = fact(n)\n",
    "rFact = fact(r)\n",
    "nrFact = fact(n-r)\n",
    "print(\"Permutation : \", nFact//nrFact)\n",
    "print(\"Combination : \", nFact//(rFact*nrFact))"
   ]
  },
  {
   "cell_type": "markdown",
   "metadata": {},
   "source": [
    "Print Prime Numbers From 2 To N"
   ]
  },
  {
   "cell_type": "code",
   "execution_count": 7,
   "metadata": {},
   "outputs": [],
   "source": [
    "def isPrime(n):\n",
    "  for d in range(2, n):\n",
    "    if(n % d == 0):\n",
    "      break\n",
    "  else:\n",
    "    return True\n",
    "  return False"
   ]
  },
  {
   "cell_type": "code",
   "execution_count": 9,
   "metadata": {},
   "outputs": [
    {
     "name": "stdout",
     "output_type": "stream",
     "text": [
      "2 Is A Prime Number\n",
      "3 Is A Prime Number\n",
      "5 Is A Prime Number\n",
      "7 Is A Prime Number\n",
      "11 Is A Prime Number\n",
      "13 Is A Prime Number\n",
      "17 Is A Prime Number\n",
      "19 Is A Prime Number\n",
      "23 Is A Prime Number\n",
      "29 Is A Prime Number\n",
      "31 Is A Prime Number\n",
      "37 Is A Prime Number\n",
      "41 Is A Prime Number\n",
      "43 Is A Prime Number\n",
      "47 Is A Prime Number\n",
      "53 Is A Prime Number\n",
      "59 Is A Prime Number\n",
      "61 Is A Prime Number\n",
      "67 Is A Prime Number\n",
      "71 Is A Prime Number\n",
      "73 Is A Prime Number\n",
      "79 Is A Prime Number\n",
      "83 Is A Prime Number\n",
      "89 Is A Prime Number\n",
      "97 Is A Prime Number\n"
     ]
    }
   ],
   "source": [
    "def isPrimeFrom2ToN(num):\n",
    "  for i in range(2, num+1):\n",
    "    if(isPrime(i)):\n",
    "      print(i, \"Is A Prime Number\")\n",
    "\n",
    "num = int(input())\n",
    "isPrimeFrom2ToN(num)"
   ]
  }
 ],
 "metadata": {
  "interpreter": {
   "hash": "b0fa6594d8f4cbf19f97940f81e996739fb7646882a419484c72d19e05852a7e"
  },
  "kernelspec": {
   "display_name": "Python 3.9.13 64-bit",
   "language": "python",
   "name": "python3"
  },
  "language_info": {
   "codemirror_mode": {
    "name": "ipython",
    "version": 3
   },
   "file_extension": ".py",
   "mimetype": "text/x-python",
   "name": "python",
   "nbconvert_exporter": "python",
   "pygments_lexer": "ipython3",
   "version": "3.9.13"
  },
  "orig_nbformat": 4
 },
 "nbformat": 4,
 "nbformat_minor": 2
}
