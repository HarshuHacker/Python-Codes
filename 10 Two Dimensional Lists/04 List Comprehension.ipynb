{
 "cells": [
  {
   "cell_type": "markdown",
   "metadata": {},
   "source": [
    "Square Of All The Elements In The List"
   ]
  },
  {
   "cell_type": "code",
   "execution_count": null,
   "metadata": {},
   "outputs": [],
   "source": [
    "li = [1, 2, 3, 4, 5, 6]"
   ]
  },
  {
   "cell_type": "code",
   "execution_count": 4,
   "metadata": {},
   "outputs": [
    {
     "name": "stdout",
     "output_type": "stream",
     "text": [
      "[1, 4, 9, 16]\n"
     ]
    }
   ],
   "source": [
    "# Method 1\n",
    "\n",
    "square1 = []\n",
    "for i in li:\n",
    "  square1.append(i**2)\n",
    "print(square1)"
   ]
  },
  {
   "cell_type": "code",
   "execution_count": 2,
   "metadata": {},
   "outputs": [
    {
     "name": "stdout",
     "output_type": "stream",
     "text": [
      "[1, 4, 9, 16]\n"
     ]
    }
   ],
   "source": [
    "# Method 2\n",
    "\n",
    "square2 = [ele**2 for ele in li]\n",
    "print(square2)"
   ]
  },
  {
   "cell_type": "markdown",
   "metadata": {},
   "source": [
    "Square Of All The Elements At Even Index In The List"
   ]
  },
  {
   "cell_type": "code",
   "execution_count": 7,
   "metadata": {},
   "outputs": [
    {
     "name": "stdout",
     "output_type": "stream",
     "text": [
      "[4, 16]\n"
     ]
    }
   ],
   "source": [
    "# Method 1\n",
    "\n",
    "square1 = []\n",
    "for i in li:\n",
    "  if(i % 2 == 0):\n",
    "    square1.append(i**2)\n",
    "print(square1)"
   ]
  },
  {
   "cell_type": "code",
   "execution_count": 5,
   "metadata": {},
   "outputs": [
    {
     "name": "stdout",
     "output_type": "stream",
     "text": [
      "[4, 16]\n"
     ]
    }
   ],
   "source": [
    "# Method 2\n",
    "\n",
    "square2 = [ele**2 for ele in li if ele % 2 == 0]\n",
    "print(square2)"
   ]
  },
  {
   "cell_type": "markdown",
   "metadata": {},
   "source": [
    "Square Of All The Elements At Index Divisible By 2 And 3 In The List"
   ]
  },
  {
   "cell_type": "code",
   "execution_count": null,
   "metadata": {},
   "outputs": [],
   "source": [
    "# Method 1\n",
    "\n",
    "square1 = []\n",
    "for i in li:\n",
    "  if(i % 2 == 0):\n",
    "    if(i % 3 == 0):\n",
    "      square1.append(i**2)\n",
    "print(square1)"
   ]
  },
  {
   "cell_type": "code",
   "execution_count": 19,
   "metadata": {},
   "outputs": [
    {
     "name": "stdout",
     "output_type": "stream",
     "text": [
      "[1, 4, 3, 16]\n"
     ]
    }
   ],
   "source": [
    "# Method 2\n",
    "\n",
    "# square2 = [ele**2 for ele in li if ele % 2 == 0 if ele % 2 == 0]\n",
    "square2 = [ele**2 for ele in li if ele % 2 == 0 and ele % 2 == 0]\n",
    "print(square2)"
   ]
  },
  {
   "cell_type": "markdown",
   "metadata": {},
   "source": [
    "Square Of All The Elements At Even Index In The List Or Just The Element"
   ]
  },
  {
   "cell_type": "code",
   "execution_count": 21,
   "metadata": {},
   "outputs": [
    {
     "name": "stdout",
     "output_type": "stream",
     "text": [
      "[1, 4, 3, 16]\n"
     ]
    }
   ],
   "source": [
    "# Method 1\n",
    "\n",
    "square1 = []\n",
    "for i in li:\n",
    "  if(i % 2 == 0):\n",
    "    square1.append(i**2)\n",
    "  else:\n",
    "    square1.append(i)\n",
    "print(square1)"
   ]
  },
  {
   "cell_type": "code",
   "execution_count": 18,
   "metadata": {},
   "outputs": [
    {
     "name": "stdout",
     "output_type": "stream",
     "text": [
      "[1, 4, 3, 16]\n"
     ]
    }
   ],
   "source": [
    "# Method 2\n",
    "\n",
    "square2 = [ele**2 if ele % 2 == 0 else ele for ele in li]\n",
    "print(square2)"
   ]
  },
  {
   "cell_type": "markdown",
   "metadata": {},
   "source": [
    "Intersection Of Two Lists"
   ]
  },
  {
   "cell_type": "code",
   "execution_count": 10,
   "metadata": {},
   "outputs": [],
   "source": [
    "li1 = [1, 2, 3, 4, 5]\n",
    "li2 = [2, 4, 6, 7]"
   ]
  },
  {
   "cell_type": "code",
   "execution_count": 14,
   "metadata": {},
   "outputs": [
    {
     "name": "stdout",
     "output_type": "stream",
     "text": [
      "[2, 4]\n"
     ]
    }
   ],
   "source": [
    "# Method 1\n",
    "\n",
    "li3 = []\n",
    "for i in li1:\n",
    "  for j in li2:\n",
    "    if(i == j):\n",
    "      li3.append(i)\n",
    "print(li3)"
   ]
  },
  {
   "cell_type": "code",
   "execution_count": 16,
   "metadata": {},
   "outputs": [
    {
     "name": "stdout",
     "output_type": "stream",
     "text": [
      "[2, 4]\n"
     ]
    }
   ],
   "source": [
    "# Method 2\n",
    "\n",
    "li4 = [i for i in li1 for j in li2 if(i == j)]\n",
    "print(li4)"
   ]
  },
  {
   "cell_type": "markdown",
   "metadata": {},
   "source": [
    "Making List Of List"
   ]
  },
  {
   "cell_type": "code",
   "execution_count": 24,
   "metadata": {},
   "outputs": [
    {
     "data": {
      "text/plain": [
       "['H', 'a', 'r', 's', 'h', ' ', 'P', 'r', 'a', 's', 'a', 'd']"
      ]
     },
     "execution_count": 24,
     "metadata": {},
     "output_type": "execute_result"
    }
   ],
   "source": [
    "string = \"Harsh Prasad\"\n",
    "str1 = [s for s in string]\n",
    "str1"
   ]
  },
  {
   "cell_type": "code",
   "execution_count": 29,
   "metadata": {},
   "outputs": [
    {
     "data": {
      "text/plain": [
       "[['H', 'a', 'r', 's', 'h', ' ', 'P', 'r', 'a', 's', 'a', 'd'],\n",
       " ['A', 'y', 'u', 's', 'h', ' ', 'P', 'r', 'a', 's', 'a', 'd'],\n",
       " ['H', 'a', 'r', 's', 'h', 'u', 'H', 'a', 'c', 'k', 'e', 'r']]"
      ]
     },
     "execution_count": 29,
     "metadata": {},
     "output_type": "execute_result"
    }
   ],
   "source": [
    "string = [\"Harsh Prasad\", \"Ayush Prasad\", \"HarshuHacker\"]\n",
    "str1 = [[ s for s in i] for i in string]\n",
    "# print(str1)\n",
    "str1"
   ]
  }
 ],
 "metadata": {
  "interpreter": {
   "hash": "b0fa6594d8f4cbf19f97940f81e996739fb7646882a419484c72d19e05852a7e"
  },
  "kernelspec": {
   "display_name": "Python 3.9.13 64-bit",
   "language": "python",
   "name": "python3"
  },
  "language_info": {
   "codemirror_mode": {
    "name": "ipython",
    "version": 3
   },
   "file_extension": ".py",
   "mimetype": "text/x-python",
   "name": "python",
   "nbconvert_exporter": "python",
   "pygments_lexer": "ipython3",
   "version": "3.9.13"
  },
  "orig_nbformat": 4
 },
 "nbformat": 4,
 "nbformat_minor": 2
}
