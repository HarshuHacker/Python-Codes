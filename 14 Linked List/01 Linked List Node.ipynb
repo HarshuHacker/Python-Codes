{
 "cells": [
  {
   "cell_type": "code",
   "execution_count": 5,
   "metadata": {},
   "outputs": [
    {
     "name": "stdout",
     "output_type": "stream",
     "text": [
      "2\n",
      "5\n",
      "<__main__.Node object at 0x10777b880>\n",
      "<__main__.Node object at 0x10777bd60>\n",
      "<__main__.Node object at 0x10777bd60>\n",
      "None\n",
      "5\n"
     ]
    },
    {
     "ename": "AttributeError",
     "evalue": "'NoneType' object has no attribute 'data'",
     "output_type": "error",
     "traceback": [
      "\u001b[0;31m---------------------------------------------------------------------------\u001b[0m",
      "\u001b[0;31mAttributeError\u001b[0m                            Traceback (most recent call last)",
      "\u001b[1;32m/Users/harshprasad/Movies/Study/Python/Python-Codes/14 Linked List/01 Linked List Node.ipynb Cell 1'\u001b[0m in \u001b[0;36m<cell line: 16>\u001b[0;34m()\u001b[0m\n\u001b[1;32m     <a href='vscode-notebook-cell:/Users/harshprasad/Movies/Study/Python/Python-Codes/14%20Linked%20List/01%20Linked%20List%20Node.ipynb#ch0000000?line=13'>14</a>\u001b[0m \u001b[39mprint\u001b[39m(b\u001b[39m.\u001b[39mnext)\n\u001b[1;32m     <a href='vscode-notebook-cell:/Users/harshprasad/Movies/Study/Python/Python-Codes/14%20Linked%20List/01%20Linked%20List%20Node.ipynb#ch0000000?line=14'>15</a>\u001b[0m \u001b[39mprint\u001b[39m(a\u001b[39m.\u001b[39mnext\u001b[39m.\u001b[39mdata)\n\u001b[0;32m---> <a href='vscode-notebook-cell:/Users/harshprasad/Movies/Study/Python/Python-Codes/14%20Linked%20List/01%20Linked%20List%20Node.ipynb#ch0000000?line=15'>16</a>\u001b[0m \u001b[39mprint\u001b[39m(b\u001b[39m.\u001b[39;49mnext\u001b[39m.\u001b[39;49mdata)\n",
      "\u001b[0;31mAttributeError\u001b[0m: 'NoneType' object has no attribute 'data'"
     ]
    }
   ],
   "source": [
    "class Node:\n",
    "  def __init__(self, data):\n",
    "    self.data = data\n",
    "    self.next = None\n",
    "\n",
    "a = Node(2)\n",
    "b = Node(5)\n",
    "a.next = b\n",
    "print(a.data)\n",
    "print(b.data)\n",
    "print(a)\n",
    "print(a.next)\n",
    "print(b)\n",
    "print(b.next)\n",
    "print(a.next.data)\n",
    "print(b.next.data)"
   ]
  }
 ],
 "metadata": {
  "kernelspec": {
   "display_name": "Python 3.9.13 64-bit",
   "language": "python",
   "name": "python3"
  },
  "language_info": {
   "codemirror_mode": {
    "name": "ipython",
    "version": 3
   },
   "file_extension": ".py",
   "mimetype": "text/x-python",
   "name": "python",
   "nbconvert_exporter": "python",
   "pygments_lexer": "ipython3",
   "version": "3.9.13"
  },
  "orig_nbformat": 4,
  "vscode": {
   "interpreter": {
    "hash": "b0fa6594d8f4cbf19f97940f81e996739fb7646882a419484c72d19e05852a7e"
   }
  }
 },
 "nbformat": 4,
 "nbformat_minor": 2
}
