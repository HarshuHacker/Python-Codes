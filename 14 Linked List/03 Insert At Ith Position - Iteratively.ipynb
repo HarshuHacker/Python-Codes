{
 "cells": [
  {
   "cell_type": "code",
   "execution_count": 31,
   "metadata": {},
   "outputs": [
    {
     "name": "stdout",
     "output_type": "stream",
     "text": [
      "1 -> 2 -> 3 -> 4 -> 5 -> None\n"
     ]
    }
   ],
   "source": [
    "class Node:\n",
    "  def __init__(self, data):\n",
    "    self.data = data\n",
    "    self.next = None\n",
    "\n",
    "def takeInput():\n",
    "  inputList = [1, 2, 3, 5]\n",
    "  head = None\n",
    "  for currData in inputList:\n",
    "    if(currData == -1):\n",
    "      break\n",
    "    newNode = Node(currData)\n",
    "    if(head == None):\n",
    "      head = newNode\n",
    "      tail = newNode\n",
    "    else:\n",
    "      tail.next = newNode\n",
    "      tail = newNode\n",
    "  return head\n",
    "\n",
    "def insertNode(head, x, index):\n",
    "  newNode = Node(x)\n",
    "  temp = head\n",
    "  if(index == 0):\n",
    "    head = newNode\n",
    "    head.next = temp\n",
    "  else:\n",
    "    for i in range(index-1):\n",
    "      temp = temp.next\n",
    "    nextTemp = temp.next\n",
    "    temp.next = newNode\n",
    "    newNode.next = nextTemp\n",
    "  return head\n",
    "\n",
    "head = takeInput()\n",
    "x, index = 4, 3\n",
    "head = insertNode(head, x, index)\n",
    "while(head != None):\n",
    "  print(head.data, \"->\", end = \" \")\n",
    "  head = head.next\n",
    "print(\"None\")"
   ]
  }
 ],
 "metadata": {
  "kernelspec": {
   "display_name": "Python 3.9.13 64-bit",
   "language": "python",
   "name": "python3"
  },
  "language_info": {
   "codemirror_mode": {
    "name": "ipython",
    "version": 3
   },
   "file_extension": ".py",
   "mimetype": "text/x-python",
   "name": "python",
   "nbconvert_exporter": "python",
   "pygments_lexer": "ipython3",
   "version": "3.9.13"
  },
  "orig_nbformat": 4,
  "vscode": {
   "interpreter": {
    "hash": "b0fa6594d8f4cbf19f97940f81e996739fb7646882a419484c72d19e05852a7e"
   }
  }
 },
 "nbformat": 4,
 "nbformat_minor": 2
}
